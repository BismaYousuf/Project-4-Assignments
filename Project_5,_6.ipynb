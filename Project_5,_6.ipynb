{
  "cells": [
    {
      "cell_type": "code",
      "execution_count": null,
      "metadata": {
        "colab": {
          "background_save": true,
          "base_uri": "https://localhost:8080/"
        },
        "id": "38I0s1quSOKu",
        "outputId": "06258af4-4ca6-4a4a-f6ba-3c5d9ce75c49"
      },
      "outputs": [
        {
          "name": "stdout",
          "output_type": "stream",
          "text": [
            "Welcome to Hangman!\n",
            "\n",
            "_ _ _ _ _ _ _\n",
            "Invalid input. Please enter a single letter.\n",
            "Invalid input. Please enter a single letter.\n",
            "Invalid input. Please enter a single letter.\n",
            "Invalid input. Please enter a single letter.\n",
            "Invalid input. Please enter a single letter.\n"
          ]
        }
      ],
      "source": [
        "import random\n",
        "import string\n",
        "\n",
        "WORD_LIST = [\"python\", \"hangman\", \"programming\", \"developer\", \"algorithm\"]\n",
        "\n",
        "def get_random_word():\n",
        "    return random.choice(WORD_LIST)\n",
        "\n",
        "def initialize_game():\n",
        "    word_to_guess = get_random_word()\n",
        "    letters_guessed = set()\n",
        "    lives = 6\n",
        "    return word_to_guess, letters_guessed, lives\n",
        "\n",
        "def display_word(word_to_guess, letters_guessed):\n",
        "    return \" \".join([letter if letter in letters_guessed else \"_\" for letter in word_to_guess])\n",
        "\n",
        "def get_player_guess():\n",
        "    while True:\n",
        "        guess = input(\"Guess a letter: \").lower()\n",
        "        if len(guess) == 1 and guess in string.ascii_lowercase:\n",
        "            return guess\n",
        "        else:\n",
        "            print(\"Invalid input. Please enter a single letter.\")\n",
        "\n",
        "def update_game(word_to_guess, letters_guessed, guess, lives):\n",
        "    if guess in letters_guessed:\n",
        "        print(\"You already guessed that letter!\")\n",
        "        return lives\n",
        "    letters_guessed.add(guess)\n",
        "    if guess not in word_to_guess:\n",
        "        lives -= 1\n",
        "        print(f\"Wrong guess! You have {lives} lives left.\")\n",
        "    return lives\n",
        "\n",
        "def check_game_status(word_to_guess, letters_guessed, lives):\n",
        "    if all(letter in letters_guessed for letter in word_to_guess):\n",
        "        print(f\"Congratulations! You guessed the word: {word_to_guess}\")\n",
        "        return True\n",
        "    if lives == 0:\n",
        "        print(f\"You lost! The word was: {word_to_guess}\")\n",
        "        return True\n",
        "    return False\n",
        "\n",
        "def play_hangman():\n",
        "    word_to_guess, letters_guessed, lives = initialize_game()\n",
        "    print(\"Welcome to Hangman!\")\n",
        "\n",
        "    while True:\n",
        "        print(\"\\n\" + display_word(word_to_guess, letters_guessed))\n",
        "        guess = get_player_guess()\n",
        "        lives = update_game(word_to_guess, letters_guessed, guess, lives)\n",
        "\n",
        "        if check_game_status(word_to_guess, letters_guessed, lives):\n",
        "            break\n",
        "\n",
        "if __name__ == \"__main__\":\n",
        "    play_hangman()"
      ]
    },
    {
      "cell_type": "code",
      "execution_count": 1,
      "metadata": {
        "id": "GAjexfD0Txx-",
        "colab": {
          "base_uri": "https://localhost:8080/"
        },
        "outputId": "a61ce19e-79fa-4872-9473-6dd101b57499"
      },
      "outputs": [
        {
          "output_type": "stream",
          "name": "stdout",
          "text": [
            "Welcome to the Countdown Timer!\n",
            "Enter the countdown time in seconds: 10\n",
            "Starting countdown...\n",
            "Time's up!\n"
          ]
        }
      ],
      "source": [
        "import time\n",
        "\n",
        "def get_countdown_time():\n",
        "    while True:\n",
        "        try:\n",
        "            seconds = int(input(\"Enter the countdown time in seconds: \"))\n",
        "            if seconds > 0:\n",
        "                return seconds\n",
        "            else:\n",
        "                print(\"Please enter a positive number.\")\n",
        "        except ValueError:\n",
        "            print(\"Invalid input. Please enter a valid number.\")\n",
        "\n",
        "def countdown(seconds):\n",
        "    while seconds:\n",
        "        mins, secs = divmod(seconds, 60)\n",
        "        timer = f\"{mins:02d}:{secs:02d}\"\n",
        "        print(timer, end=\"\\r\")\n",
        "        time.sleep(1)\n",
        "        seconds -= 1\n",
        "    print(\"Time's up!\")\n",
        "\n",
        "def main():\n",
        "    print(\"Welcome to the Countdown Timer!\")\n",
        "    seconds = get_countdown_time()\n",
        "    print(\"Starting countdown...\")\n",
        "    countdown(seconds)\n",
        "\n",
        "if __name__ == \"__main__\":\n",
        "    main()"
      ]
    }
  ],
  "metadata": {
    "colab": {
      "provenance": []
    },
    "kernelspec": {
      "display_name": "Python 3",
      "name": "python3"
    },
    "language_info": {
      "name": "python"
    }
  },
  "nbformat": 4,
  "nbformat_minor": 0
}