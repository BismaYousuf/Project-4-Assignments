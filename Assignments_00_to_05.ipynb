{
  "nbformat": 4,
  "nbformat_minor": 0,
  "metadata": {
    "colab": {
      "provenance": []
    },
    "kernelspec": {
      "name": "python3",
      "display_name": "Python 3"
    },
    "language_info": {
      "name": "python"
    }
  },
  "cells": [
    {
      "cell_type": "markdown",
      "source": [
        "# 00_intro_python"
      ],
      "metadata": {
        "id": "cxZvMEzL8Q6s"
      }
    },
    {
      "cell_type": "markdown",
      "source": [
        "# Assignments 00 to 05\n",
        "**01 Add to** **Numbers**"
      ],
      "metadata": {
        "id": "kSFwjVAV5PSJ"
      }
    },
    {
      "cell_type": "code",
      "source": [
        "def main():\n",
        "    # Prompt user for the first number\n",
        "    num1 = int(input(\"Enter the first number: \"))\n",
        "\n",
        "    # Prompt user for the second number\n",
        "    num2 = int(input(\"Enter the second number: \"))\n",
        "\n",
        "    # Calculate the sum\n",
        "    total = num1 + num2\n",
        "\n",
        "    # Print the result\n",
        "    print(f\"The sum of {num1} and {num2} is {total}.\")\n",
        "\n",
        "# Run the program\n",
        "if __name__ == \"__main__\":\n",
        "    main()"
      ],
      "metadata": {
        "colab": {
          "base_uri": "https://localhost:8080/"
        },
        "id": "SMA2hta-5ST2",
        "outputId": "4f08a92d-1863-4625-db27-45de0f7d313b"
      },
      "execution_count": null,
      "outputs": [
        {
          "output_type": "stream",
          "name": "stdout",
          "text": [
            "Enter the first number: 2\n",
            "Enter the second number: 3\n",
            "The sum of 2 and 3 is 5.\n"
          ]
        }
      ]
    },
    {
      "cell_type": "markdown",
      "source": [
        "**02_agreement_bot**"
      ],
      "metadata": {
        "id": "picRhPl650P7"
      }
    },
    {
      "cell_type": "code",
      "source": [
        "def main():\n",
        "    # Prompt user for their favorite animal\n",
        "    favorite_animal = input(\"What's your favorite animal? \")\n",
        "\n",
        "    # Print the response\n",
        "    print(f\"My favorite animal is also {favorite_animal}!\")\n",
        "\n",
        "# Run the program\n",
        "if __name__ == \"__main__\":\n",
        "    main()\n"
      ],
      "metadata": {
        "colab": {
          "base_uri": "https://localhost:8080/"
        },
        "id": "qEcKd16352xn",
        "outputId": "0dae0c9f-f729-44c5-c813-1105312aa9c8"
      },
      "execution_count": null,
      "outputs": [
        {
          "output_type": "stream",
          "name": "stdout",
          "text": [
            "What's your favorite animal? Dog\n",
            "My favorite animal is also Dog!\n"
          ]
        }
      ]
    },
    {
      "cell_type": "markdown",
      "source": [
        "**03_fahrenheit_to_celsius**"
      ],
      "metadata": {
        "id": "Vk_Q-BhV6T72"
      }
    },
    {
      "cell_type": "code",
      "source": [
        "def main():\n",
        "    # Prompt user for temperature in Fahrenheit\n",
        "    degrees_fahrenheit = float(input(\"Enter temperature in Fahrenheit: \"))\n",
        "\n",
        "    # Convert Fahrenheit to Celsius\n",
        "    degrees_celsius = (degrees_fahrenheit - 32) * 5.0/9.0\n",
        "\n",
        "    # Print the result\n",
        "    print(f\"Temperature: {degrees_fahrenheit}F = {degrees_celsius}C\")\n",
        "\n",
        "# Run the program\n",
        "if __name__ == \"__main__\":\n",
        "    main()\n"
      ],
      "metadata": {
        "colab": {
          "base_uri": "https://localhost:8080/"
        },
        "id": "l0J1g03G6XUk",
        "outputId": "c3b58f01-7173-422f-b530-74dcb7683ce1"
      },
      "execution_count": null,
      "outputs": [
        {
          "output_type": "stream",
          "name": "stdout",
          "text": [
            "Enter temperature in Fahrenheit: 90\n",
            "Temperature: 90.0F = 32.22222222222222C\n"
          ]
        }
      ]
    },
    {
      "cell_type": "markdown",
      "source": [
        "**04_how_old_are_they**"
      ],
      "metadata": {
        "id": "cNGuGOho6t90"
      }
    },
    {
      "cell_type": "code",
      "source": [
        "def main():\n",
        "    # Define ages\n",
        "    anton_age = 21\n",
        "    beth_age = anton_age + 6\n",
        "    chen_age = beth_age + 20\n",
        "    drew_age = chen_age + anton_age\n",
        "    ethan_age = chen_age\n",
        "\n",
        "    # Print the ages\n",
        "    print(f\"Anton is {anton_age} years old.\")\n",
        "    print(f\"Beth is {beth_age} years old.\")\n",
        "    print(f\"Chen is {chen_age} years old.\")\n",
        "    print(f\"Drew is {drew_age} years old.\")\n",
        "    print(f\"Ethan is {ethan_age} years old.\")\n",
        "\n",
        "# Run the program\n",
        "if __name__ == \"__main__\":\n",
        "    main()\n"
      ],
      "metadata": {
        "colab": {
          "base_uri": "https://localhost:8080/"
        },
        "id": "aneiAydD6zBd",
        "outputId": "04d9e01a-479a-4e23-c851-7f8f11eb9857"
      },
      "execution_count": null,
      "outputs": [
        {
          "output_type": "stream",
          "name": "stdout",
          "text": [
            "Anton is 21 years old.\n",
            "Beth is 27 years old.\n",
            "Chen is 47 years old.\n",
            "Drew is 68 years old.\n",
            "Ethan is 47 years old.\n"
          ]
        }
      ]
    },
    {
      "cell_type": "markdown",
      "source": [
        "**05_triangle_perimeter**"
      ],
      "metadata": {
        "id": "eQLSxvOU7KfR"
      }
    },
    {
      "cell_type": "code",
      "source": [
        "def main():\n",
        "    # Prompt user for the lengths of the triangle's sides\n",
        "    side1 = float(input(\"What is the length of side 1? \"))\n",
        "    side2 = float(input(\"What is the length of side 2? \"))\n",
        "    side3 = float(input(\"What is the length of side 3? \"))\n",
        "\n",
        "    # Calculate the perimeter\n",
        "    perimeter = side1 + side2 + side3\n",
        "\n",
        "    # Print the result\n",
        "    print(f\"The perimeter of the triangle is {perimeter}\")\n",
        "\n",
        "# Run the program\n",
        "if __name__ == \"__main__\":\n",
        "    main()\n"
      ],
      "metadata": {
        "colab": {
          "base_uri": "https://localhost:8080/"
        },
        "id": "RR6eVyys7Mta",
        "outputId": "ebd4ac6b-68fb-43b3-b3bc-93e8ed516376"
      },
      "execution_count": null,
      "outputs": [
        {
          "output_type": "stream",
          "name": "stdout",
          "text": [
            "What is the length of side 1? 20\n",
            "What is the length of side 2? 40\n",
            "What is the length of side 3? 50\n",
            "The perimeter of the triangle is 110.0\n"
          ]
        }
      ]
    },
    {
      "cell_type": "markdown",
      "source": [
        "**06_square_number**"
      ],
      "metadata": {
        "id": "o1Wi89Y77sfX"
      }
    },
    {
      "cell_type": "code",
      "source": [
        "def main():\n",
        "    # Prompt user for a number\n",
        "    number = float(input(\"Type a number to see its square: \"))\n",
        "\n",
        "    # Calculate the square\n",
        "    square = number * number\n",
        "\n",
        "    # Print the result\n",
        "    print(f\"{number} squared is {square}\")\n",
        "\n",
        "# Run the program\n",
        "if __name__ == \"__main__\":\n",
        "    main()\n"
      ],
      "metadata": {
        "colab": {
          "base_uri": "https://localhost:8080/"
        },
        "id": "N_MHCtx87wBL",
        "outputId": "2d445a81-0da5-441a-8552-ee01e3db3771"
      },
      "execution_count": null,
      "outputs": [
        {
          "output_type": "stream",
          "name": "stdout",
          "text": [
            "Type a number to see its square: 4\n",
            "4.0 squared is 16.0\n"
          ]
        }
      ]
    },
    {
      "cell_type": "markdown",
      "source": [
        "# **01_expressions**"
      ],
      "metadata": {
        "id": "Gx3vICXO8o3U"
      }
    },
    {
      "cell_type": "markdown",
      "source": [
        "**01_dicesimulator**"
      ],
      "metadata": {
        "id": "VsjlJHsO9Q-t"
      }
    },
    {
      "cell_type": "code",
      "source": [
        "import random\n",
        "\n",
        "def roll_dice():\n",
        "    return random.randint(1, 6)\n",
        "\n",
        "def main():\n",
        "    for i in range(3):\n",
        "        die1 = roll_dice()\n",
        "        die2 = roll_dice()\n",
        "        print(f\"Roll {i + 1}: Die 1 = {die1}, Die 2 = {die2}\")\n",
        "\n",
        "# Run the program\n",
        "if __name__ == \"__main__\":\n",
        "    main()"
      ],
      "metadata": {
        "colab": {
          "base_uri": "https://localhost:8080/"
        },
        "id": "yIiWkZ6N8sEG",
        "outputId": "8f29fa99-6328-413c-b950-625a85efd910"
      },
      "execution_count": null,
      "outputs": [
        {
          "output_type": "stream",
          "name": "stdout",
          "text": [
            "Roll 1: Die 1 = 5, Die 2 = 4\n",
            "Roll 2: Die 1 = 2, Die 2 = 1\n",
            "Roll 3: Die 1 = 3, Die 2 = 6\n"
          ]
        }
      ]
    },
    {
      "cell_type": "markdown",
      "source": [
        "**02_e= mc2**"
      ],
      "metadata": {
        "id": "YO0eiR9M9b2U"
      }
    },
    {
      "cell_type": "code",
      "source": [
        "def main():\n",
        "    # Define the speed of light constant\n",
        "    C = 299792458  # m/s\n",
        "\n",
        "    # Prompt user for mass in kilograms\n",
        "    mass = float(input(\"Enter kilos of mass: \"))\n",
        "\n",
        "    # Calculate energy using Einstein's equation\n",
        "    energy = mass * C**2\n",
        "\n",
        "    # Print the result\n",
        "    print(\"e = m * C^2...\")\n",
        "    print(f\"m = {mass} kg\")\n",
        "    print(f\"C = {C} m/s\")\n",
        "    print(f\"{energy} joules of energy!\")\n",
        "\n",
        "# Run the program\n",
        "if __name__ == \"__main__\":\n",
        "    main()\n",
        "\n"
      ],
      "metadata": {
        "colab": {
          "base_uri": "https://localhost:8080/"
        },
        "id": "B3VFUcqj9dUx",
        "outputId": "2de61d5c-f99b-4fd6-f9a5-14f7e9947a3e"
      },
      "execution_count": null,
      "outputs": [
        {
          "output_type": "stream",
          "name": "stdout",
          "text": [
            "Enter kilos of mass: 5\n",
            "e = m * C^2...\n",
            "m = 5.0 kg\n",
            "C = 299792458 m/s\n",
            "4.493775893684088e+17 joules of energy!\n"
          ]
        }
      ]
    },
    {
      "cell_type": "markdown",
      "source": [
        "**03_feet_to_inches**"
      ],
      "metadata": {
        "id": "osgWdD2z-ScX"
      }
    },
    {
      "cell_type": "code",
      "source": [
        "def feet_to_inches(feet):\n",
        "    return feet * 12\n",
        "\n",
        "# Example usage\n",
        "feet = 5\n",
        "inches = feet_to_inches(feet)\n",
        "print(f\"{feet} feet is {inches} inches.\")\n"
      ],
      "metadata": {
        "colab": {
          "base_uri": "https://localhost:8080/"
        },
        "id": "xPmmVyYn-5Bn",
        "outputId": "887b867c-8543-40d5-cb66-6b17f213a90f"
      },
      "execution_count": null,
      "outputs": [
        {
          "output_type": "stream",
          "name": "stdout",
          "text": [
            "5 feet is 60 inches.\n"
          ]
        }
      ]
    },
    {
      "cell_type": "markdown",
      "source": [
        "**04_pythagorean_theorem**"
      ],
      "metadata": {
        "id": "W2Sr_aeu_GCn"
      }
    },
    {
      "cell_type": "code",
      "source": [
        "import math\n",
        "\n",
        "# Get user input\n",
        "ab = float(input(\"Enter the length of AB: \"))\n",
        "ac = float(input(\"Enter the length of AC: \"))\n",
        "\n",
        "# Calculate the hypotenuse\n",
        "bc = math.sqrt(ab ** 2 + ac ** 2)\n",
        "\n",
        "# Output the result\n",
        "print(f\"The length of BC (the hypotenuse) is: {bc:.2f}\")\n"
      ],
      "metadata": {
        "colab": {
          "base_uri": "https://localhost:8080/"
        },
        "id": "nf9Y835t_Iev",
        "outputId": "90cb909e-f6d0-4e3c-f9bb-8c7ac0642ed8"
      },
      "execution_count": null,
      "outputs": [
        {
          "output_type": "stream",
          "name": "stdout",
          "text": [
            "Enter the length of AB: 4\n",
            "Enter the length of AC: 4\n",
            "The length of BC (the hypotenuse) is: 5.66\n"
          ]
        }
      ]
    },
    {
      "cell_type": "markdown",
      "source": [
        "**05_remainder_division**"
      ],
      "metadata": {
        "id": "SL_DZmVM_Yj2"
      }
    },
    {
      "cell_type": "code",
      "source": [
        "# Get user input\n",
        "num1 = int(input(\"Please enter an integer to be divided: \"))\n",
        "num2 = int(input(\"Please enter an integer to divide by: \"))\n",
        "\n",
        "# Calculate quotient and remainder\n",
        "quotient = num1 // num2\n",
        "remainder = num1 % num2\n",
        "\n",
        "# Output the result\n",
        "print(f\"The result of this division is {quotient} with a remainder of {remainder}\")\n"
      ],
      "metadata": {
        "colab": {
          "base_uri": "https://localhost:8080/"
        },
        "id": "zeSsb0Bd_ZyY",
        "outputId": "543a19b8-22dc-44fb-e524-f78f693a2289"
      },
      "execution_count": null,
      "outputs": [
        {
          "output_type": "stream",
          "name": "stdout",
          "text": [
            "Please enter an integer to be divided: 5\n",
            "Please enter an integer to divide by: 2\n",
            "The result of this division is 2 with a remainder of 1\n"
          ]
        }
      ]
    },
    {
      "cell_type": "markdown",
      "source": [
        "**06_rolldice**"
      ],
      "metadata": {
        "id": "MgSZChvo_pJZ"
      }
    },
    {
      "cell_type": "code",
      "source": [
        "import random\n",
        "\n",
        "while True:\n",
        "    input(\"Press Enter to roll the dice...\")  # Wait for user input\n",
        "    die1 = random.randint(1, 6)\n",
        "    die2 = random.randint(1, 6)\n",
        "    total = die1 + die2\n",
        "\n",
        "    print(f\"Roll 1: {die1}\")\n",
        "    print(f\"Roll 2: {die2}\")\n",
        "    print(f\"Total: {total}\")\n",
        "\n",
        "    again = input(\"Roll again? (yes/no): \").strip().lower()\n",
        "    if again != \"yes\":\n",
        "        break\n"
      ],
      "metadata": {
        "colab": {
          "base_uri": "https://localhost:8080/"
        },
        "id": "pfwzV8Cd_quK",
        "outputId": "ced51a07-ed2d-45da-ee81-503ec162d660"
      },
      "execution_count": null,
      "outputs": [
        {
          "name": "stdout",
          "output_type": "stream",
          "text": [
            "Press Enter to roll the dice...\n",
            "Roll 1: 4\n",
            "Roll 2: 2\n",
            "Total: 6\n",
            "Roll again? (yes/no): yes\n",
            "Press Enter to roll the dice...\n",
            "Roll 1: 4\n",
            "Roll 2: 2\n",
            "Total: 6\n",
            "Roll again? (yes/no): n\n"
          ]
        }
      ]
    },
    {
      "cell_type": "markdown",
      "source": [
        "**06_seconds_in_year**"
      ],
      "metadata": {
        "id": "rc6lI7giAMW2"
      }
    },
    {
      "cell_type": "code",
      "source": [
        "# Constants\n",
        "DAYS_IN_YEAR = 365\n",
        "HOURS_IN_DAY = 24\n",
        "MINUTES_IN_HOUR = 60\n",
        "SECONDS_IN_MINUTE = 60\n",
        "\n",
        "# Calculate seconds in a year\n",
        "seconds_in_year = DAYS_IN_YEAR * HOURS_IN_DAY * MINUTES_IN_HOUR * SECONDS_IN_MINUTE\n",
        "\n",
        "# Output the result\n",
        "print(f\"There are {seconds_in_year} seconds in a year!\")\n"
      ],
      "metadata": {
        "colab": {
          "base_uri": "https://localhost:8080/"
        },
        "id": "sN94uP-VAOPZ",
        "outputId": "5fe50f6e-546d-4e30-f666-c0e364d25d55"
      },
      "execution_count": null,
      "outputs": [
        {
          "output_type": "stream",
          "name": "stdout",
          "text": [
            "There are 31536000 seconds in a year!\n"
          ]
        }
      ]
    },
    {
      "cell_type": "markdown",
      "source": [
        "**07_tiny_mad_lib**"
      ],
      "metadata": {
        "id": "7AyP-eIeAdqB"
      }
    },
    {
      "cell_type": "code",
      "source": [
        "# Get user input\n",
        "adjective = input(\"Please type an adjective and press enter: \")\n",
        "noun = input(\"Please type a noun and press enter: \")\n",
        "verb = input(\"Please type a verb and press enter: \")\n",
        "\n",
        "# Print the fun sentence\n",
        "print(f\"I just learned Python! Now, my {adjective} {noun} can {verb}!\")\n"
      ],
      "metadata": {
        "colab": {
          "base_uri": "https://localhost:8080/"
        },
        "id": "3ZYUFPfEAhHZ",
        "outputId": "9b11ccb1-8bb9-486b-ab69-80122304ad4b"
      },
      "execution_count": null,
      "outputs": [
        {
          "output_type": "stream",
          "name": "stdout",
          "text": [
            "Please type an adjective and press enter: tiny\n",
            "Please type a noun and press enter: robot\n",
            "Please type a verb and press enter: dance\n",
            "I just learned Python! Now, my tiny robot can dance!\n"
          ]
        }
      ]
    },
    {
      "cell_type": "markdown",
      "source": [
        "# 02_lists\n",
        "**01_add_many_number**"
      ],
      "metadata": {
        "id": "tGxHQTTeDuFT"
      }
    },
    {
      "cell_type": "code",
      "source": [
        "def sum_of_numbers(numbers):\n",
        "    return sum(numbers)\n",
        "\n",
        "# Example usage\n",
        "nums = [1, 2, 3, 4, 5]\n",
        "result = sum_of_numbers(nums)\n",
        "print(f\"The sum is: {result}\")\n"
      ],
      "metadata": {
        "colab": {
          "base_uri": "https://localhost:8080/"
        },
        "id": "h42pSCs5D4AO",
        "outputId": "4ccdea27-d1eb-4862-ca4d-65a206ae3783"
      },
      "execution_count": null,
      "outputs": [
        {
          "output_type": "stream",
          "name": "stdout",
          "text": [
            "The sum is: 15\n"
          ]
        }
      ]
    },
    {
      "cell_type": "markdown",
      "source": [
        "**02_double_list**"
      ],
      "metadata": {
        "id": "em3puVKdEKBh"
      }
    },
    {
      "cell_type": "code",
      "source": [
        "# Original list\n",
        "numbers = [1, 2, 3, 4]\n",
        "\n",
        "# Double each element\n",
        "doubled_numbers = [num * 2 for num in numbers]\n",
        "\n",
        "# Output the result\n",
        "print(doubled_numbers)\n"
      ],
      "metadata": {
        "id": "ZneyHdLWELSZ",
        "colab": {
          "base_uri": "https://localhost:8080/"
        },
        "outputId": "d2bf1d4c-f485-4074-d34c-1310fed5185e"
      },
      "execution_count": null,
      "outputs": [
        {
          "output_type": "stream",
          "name": "stdout",
          "text": [
            "[2, 4, 6, 8]\n"
          ]
        }
      ]
    },
    {
      "cell_type": "markdown",
      "source": [
        "**03_erase_canvas**"
      ],
      "metadata": {
        "id": "QCegaPYkFABy"
      }
    },
    {
      "cell_type": "code",
      "source": [
        "import numpy as np\n",
        "import matplotlib.pyplot as plt\n",
        "from IPython.display import display, clear_output\n",
        "import ipywidgets as widgets\n",
        "\n",
        "# Create a 10x10 blue grid\n",
        "grid_size = 10\n",
        "grid = np.ones((grid_size, grid_size, 3))  # RGB colors\n",
        "grid[:, :] = [0, 0, 1]  # Blue color\n",
        "\n",
        "# Create figure\n",
        "fig, ax = plt.subplots()\n",
        "ax.set_xticks([])\n",
        "ax.set_yticks([])\n",
        "\n",
        "def draw_grid():\n",
        "    \"\"\"Update and show the grid\"\"\"\n",
        "    clear_output(wait=True)\n",
        "    plt.imshow(grid)\n",
        "    plt.show()\n",
        "\n",
        "def erase(event):\n",
        "    \"\"\"Erase cells where the mouse clicks\"\"\"\n",
        "    x, y = int(event.xdata), int(event.ydata)  # Get grid position\n",
        "    if 0 <= x < grid_size and 0 <= y < grid_size:\n",
        "        grid[y, x] = [1, 1, 1]  # Change to white\n",
        "        draw_grid()\n",
        "\n",
        "# Display the grid\n",
        "draw_grid()\n",
        "\n",
        "# Add interactive erasing\n",
        "fig.canvas.mpl_connect('button_press_event', erase)\n"
      ],
      "metadata": {
        "colab": {
          "base_uri": "https://localhost:8080/",
          "height": 424
        },
        "id": "aQTnAvYqJLz_",
        "outputId": "1850b2bd-0522-45e1-bdaf-16444e4a5749"
      },
      "execution_count": null,
      "outputs": [
        {
          "output_type": "display_data",
          "data": {
            "text/plain": [
              "<Figure size 640x480 with 1 Axes>"
            ],
            "image/png": "[encoded data removed]"
          },
          "metadata": {}
        },
        {
          "output_type": "execute_result",
          "data": {
            "text/plain": [
              "11"
            ]
          },
          "metadata": {},
          "execution_count": 33
        }
      ]
    },
    {
      "cell_type": "markdown",
      "source": [
        "**04_flowing_with_data_structures**"
      ],
      "metadata": {
        "id": "Nlcrdo4tJZ_V"
      }
    },
    {
      "cell_type": "code",
      "source": [
        "def add_three_copies(my_list, data):\n",
        "    for i in range(3):  # Add data 3 times\n",
        "        my_list.append(data)\n",
        "\n",
        "def main():\n",
        "    message = input(\"Enter a message to copy: \")  # Ask user for input\n",
        "    my_list = []  # Start with an empty list\n",
        "    print(\"List before:\", my_list)  # Show empty list\n",
        "    add_three_copies(my_list, message)  # Modify the list\n",
        "    print(\"List after:\", my_list)  # Show updated list\n",
        "\n",
        "if __name__ == \"__main__\":\n",
        "    main()\n"
      ],
      "metadata": {
        "colab": {
          "base_uri": "https://localhost:8080/"
        },
        "id": "DPveR6CiJbdZ",
        "outputId": "eec55dfa-6414-42ae-bad4-476b5d095662"
      },
      "execution_count": null,
      "outputs": [
        {
          "output_type": "stream",
          "name": "stdout",
          "text": [
            "Enter a message to copy: hello i am Bisma\n",
            "List before: []\n",
            "List after: ['hello i am Bisma', 'hello i am Bisma', 'hello i am Bisma']\n"
          ]
        }
      ]
    },
    {
      "cell_type": "markdown",
      "source": [
        "**05_get_first_element**"
      ],
      "metadata": {
        "id": "8sG5ulSFJrQr"
      }
    },
    {
      "cell_type": "code",
      "source": [
        "def get_first_element(lst):\n",
        "    \"\"\"Prints the first element of the list.\"\"\"\n",
        "    print(lst[0])  # Print the first item\n",
        "\n",
        "def get_lst():\n",
        "    \"\"\"Takes user input to create a list.\"\"\"\n",
        "    lst = []\n",
        "    elem = input(\"Enter a list item (press enter to stop): \")\n",
        "    while elem != \"\":\n",
        "        lst.append(elem)\n",
        "        elem = input(\"Enter a list item (press enter to stop): \")\n",
        "    return lst\n",
        "\n",
        "def main():\n",
        "    lst = get_lst()  # Get user input as a list\n",
        "    get_first_element(lst)  # Print the first element\n",
        "\n",
        "if __name__ == \"__main__\":\n",
        "    main()\n"
      ],
      "metadata": {
        "colab": {
          "base_uri": "https://localhost:8080/"
        },
        "id": "fis8cxM4JsYO",
        "outputId": "1bd50ca0-3564-4237-f2bd-f05106afe692"
      },
      "execution_count": null,
      "outputs": [
        {
          "output_type": "stream",
          "name": "stdout",
          "text": [
            "Enter a list item (press enter to stop): Apple\n",
            "Enter a list item (press enter to stop): \n",
            "Apple\n"
          ]
        }
      ]
    },
    {
      "cell_type": "markdown",
      "source": [
        "**07_get_list**"
      ],
      "metadata": {
        "id": "00OR7QeIKm3V"
      }
    },
    {
      "cell_type": "code",
      "source": [
        "def main():\n",
        "    lst = []  # Empty list\n",
        "\n",
        "    while True:\n",
        "        val = input(\"Enter a value: \")  # Ask for input\n",
        "        if val == \"\":  # Stop if input is empty\n",
        "            break\n",
        "        lst.append(val)  # Add input to the list\n",
        "\n",
        "    print(\"Here's the list:\", lst)  # Print the list\n",
        "\n",
        "if __name__ == '__main__':\n",
        "    main()\n"
      ],
      "metadata": {
        "colab": {
          "base_uri": "https://localhost:8080/"
        },
        "id": "6zSAUdbaKpoM",
        "outputId": "36facfc8-fa03-43e1-cf40-ddc737d971e5"
      },
      "execution_count": null,
      "outputs": [
        {
          "output_type": "stream",
          "name": "stdout",
          "text": [
            "Enter a value: apple\n",
            "Enter a value: mango\n",
            "Enter a value: orange\n",
            "Enter a value: \n",
            "Here's the list: ['apple', 'mango', 'orange']\n"
          ]
        }
      ]
    },
    {
      "cell_type": "markdown",
      "source": [
        "**08_shorten**"
      ],
      "metadata": {
        "id": "bvNZbIngLKp9"
      }
    },
    {
      "cell_type": "code",
      "source": [
        "MAX_LENGTH = 3  # Maximum allowed length\n",
        "\n",
        "def shorten(lst):\n",
        "    while len(lst) > MAX_LENGTH:  # Remove items if list is too long\n",
        "        print(lst.pop())  # Print the removed item\n",
        "\n",
        "# Function to get a list from user input\n",
        "def get_lst():\n",
        "    lst = []\n",
        "    elem = input(\"Please enter an element of the list or press enter to stop: \")\n",
        "    while elem != \"\":\n",
        "        lst.append(elem)\n",
        "        elem = input(\"Please enter an element of the list or press enter to stop: \")\n",
        "    return lst\n",
        "\n",
        "def main():\n",
        "    lst = get_lst()\n",
        "    shorten(lst)\n",
        "\n",
        "if __name__ == '__main__':\n",
        "    main()\n",
        "\n"
      ],
      "metadata": {
        "colab": {
          "base_uri": "https://localhost:8080/"
        },
        "id": "nHDtJbZzLL9c",
        "outputId": "ffe4fdb5-ffff-4c27-d7ad-5e00f10378bf"
      },
      "execution_count": null,
      "outputs": [
        {
          "output_type": "stream",
          "name": "stdout",
          "text": [
            "Please enter an element of the list or press enter to stop: A\n",
            "Please enter an element of the list or press enter to stop: B\n",
            "Please enter an element of the list or press enter to stop: C\n",
            "Please enter an element of the list or press enter to stop: D\n",
            "Please enter an element of the list or press enter to stop: E\n",
            "Please enter an element of the list or press enter to stop: \n",
            "E\n",
            "D\n"
          ]
        }
      ]
    },
    {
      "cell_type": "markdown",
      "source": [
        "# **03_if_statements**"
      ],
      "metadata": {
        "id": "_d5eKN8GPJbL"
      }
    },
    {
      "cell_type": "markdown",
      "source": [
        "**01_print_events**"
      ],
      "metadata": {
        "id": "Uwl3MQrnPQDN"
      }
    },
    {
      "cell_type": "code",
      "source": [
        "def main():\n",
        "    for i in range(20):  # Loop 20 times (0 to 19)\n",
        "        print(i * 2)  # Print even numbers (0, 2, 4, ...)\n",
        "\n",
        "if __name__ == \"__main__\":\n",
        "    main()\n"
      ],
      "metadata": {
        "colab": {
          "base_uri": "https://localhost:8080/"
        },
        "id": "hjZ7qLfLPcT4",
        "outputId": "082f7515-b21f-4a16-b750-ba9541633832"
      },
      "execution_count": null,
      "outputs": [
        {
          "output_type": "stream",
          "name": "stdout",
          "text": [
            "0\n",
            "2\n",
            "4\n",
            "6\n",
            "8\n",
            "10\n",
            "12\n",
            "14\n",
            "16\n",
            "18\n",
            "20\n",
            "22\n",
            "24\n",
            "26\n",
            "28\n",
            "30\n",
            "32\n",
            "34\n",
            "36\n",
            "38\n"
          ]
        }
      ]
    },
    {
      "cell_type": "markdown",
      "source": [
        "**02_international_voting_age**"
      ],
      "metadata": {
        "id": "03gOo08NPufu"
      }
    },
    {
      "cell_type": "code",
      "source": [
        "PETURKSBOUIPO_AGE = 16\n",
        "STANLAU_AGE = 25\n",
        "MAYENGUA_AGE = 48\n",
        "\n",
        "def main():\n",
        "    # Get the user's age\n",
        "    user_age = int(input(\"How old are you? \"))\n",
        "\n",
        "    # Check and print results for each country\n",
        "    for country, age in [(\"Peturksbouipo\", PETURKSBOUIPO_AGE),\n",
        "                         (\"Stanlau\", STANLAU_AGE),\n",
        "                         (\"Mayengua\", MAYENGUA_AGE)]:\n",
        "        if user_age >= age:\n",
        "            print(f\"You can vote in {country} where the voting age is {age}.\")\n",
        "        else:\n",
        "            print(f\"You cannot vote in {country} where the voting age is {age}.\")\n",
        "\n",
        "if __name__ == \"__main__\":\n",
        "    main()\n"
      ],
      "metadata": {
        "colab": {
          "base_uri": "https://localhost:8080/"
        },
        "id": "IqiO8P_sPz6F",
        "outputId": "1a95d5f2-eb8b-40b1-ecbe-716f93fa346f"
      },
      "execution_count": null,
      "outputs": [
        {
          "output_type": "stream",
          "name": "stdout",
          "text": [
            "How old are you? 20\n",
            "You can vote in Peturksbouipo where the voting age is 16.\n",
            "You cannot vote in Stanlau where the voting age is 25.\n",
            "You cannot vote in Mayengua where the voting age is 48.\n"
          ]
        }
      ]
    },
    {
      "cell_type": "markdown",
      "source": [
        "**03_leap_year**"
      ],
      "metadata": {
        "id": "7K42xAYIQHv5"
      }
    },
    {
      "cell_type": "code",
      "source": [
        "def is_leap_year(year):\n",
        "    \"\"\"Returns True if the year is a leap year, otherwise False.\"\"\"\n",
        "    return (year % 4 == 0 and year % 100 != 0) or (year % 400 == 0)\n",
        "\n",
        "def main():\n",
        "    # Get the year to check from the user\n",
        "    year = int(input(\"Please input a year: \"))\n",
        "\n",
        "    # Print result using the helper function\n",
        "    if is_leap_year(year):\n",
        "        print(\"That's a leap year!\")\n",
        "    else:\n",
        "        print(\"That's not a leap year.\")\n",
        "\n",
        "if __name__ == '__main__':\n",
        "    main()\n"
      ],
      "metadata": {
        "colab": {
          "base_uri": "https://localhost:8080/"
        },
        "id": "FwBNZDzHQJBw",
        "outputId": "6b785b99-c447-46c2-f049-2b4d7e691c1f"
      },
      "execution_count": null,
      "outputs": [
        {
          "output_type": "stream",
          "name": "stdout",
          "text": [
            "Please input a year: 2024\n",
            "That's a leap year!\n"
          ]
        }
      ]
    },
    {
      "cell_type": "markdown",
      "source": [
        "**04_tall_enough_to_ride**"
      ],
      "metadata": {
        "id": "W64Twxp6Qxwv"
      }
    },
    {
      "cell_type": "code",
      "source": [
        "minimum_height = 50  # Minimum height requirement\n",
        "\n",
        "def main():\n",
        "    while True:\n",
        "        height = input(\"How tall are you? \")\n",
        "\n",
        "        if height == \"\":  # Stop if no input\n",
        "            print(\"Goodbye!\")\n",
        "            break\n",
        "\n",
        "        height = float(height)  # Convert input to a number\n",
        "\n",
        "        if height >= minimum_height:\n",
        "            print(\"You're tall enough to ride! 🎢\")\n",
        "        else:\n",
        "            print(\"You're not tall enough to ride, but maybe next year! 😊\")\n",
        "\n",
        "if __name__ == '__main__':\n",
        "    main()\n"
      ],
      "metadata": {
        "colab": {
          "base_uri": "https://localhost:8080/"
        },
        "id": "qJwfVA5LQ4Hk",
        "outputId": "4b2b0f46-e079-446a-d491-0ef0053dc6b1"
      },
      "execution_count": null,
      "outputs": [
        {
          "output_type": "stream",
          "name": "stdout",
          "text": [
            "How tall are you? 50\n",
            "You're tall enough to ride! 🎢\n",
            "How tall are you? \n",
            "Goodbye!\n"
          ]
        }
      ]
    },
    {
      "cell_type": "markdown",
      "source": [
        "**05_random_numbers**"
      ],
      "metadata": {
        "id": "2ucET_93RPHh"
      }
    },
    {
      "cell_type": "code",
      "source": [
        "import random\n",
        "\n",
        "n_numbers = 10\n",
        "min_value = 1\n",
        "max_value = 100\n",
        "\n",
        "def main():\n",
        "    for _ in range(n_numbers):  # Loop 10 times\n",
        "        print(random.randint(min_value, max_value), end=\" \")  # Print random number\n",
        "\n",
        "if __name__ == '__main__':\n",
        "    main()\n"
      ],
      "metadata": {
        "colab": {
          "base_uri": "https://localhost:8080/"
        },
        "id": "lkCv6chuRaGi",
        "outputId": "ee5e7b25-22ce-4279-c5f4-c6c91095d158"
      },
      "execution_count": null,
      "outputs": [
        {
          "output_type": "stream",
          "name": "stdout",
          "text": [
            "6 50 67 93 19 91 86 29 43 93 "
          ]
        }
      ]
    },
    {
      "cell_type": "markdown",
      "source": [
        "# 04_dictionaries"
      ],
      "metadata": {
        "id": "B8nxM4XsTOsx"
      }
    },
    {
      "cell_type": "markdown",
      "source": [
        "**00_count_nums.md**"
      ],
      "metadata": {
        "id": "583z3boDUQWe"
      }
    },
    {
      "cell_type": "code",
      "source": [
        "def get_user_numbers():\n",
        "    \"\"\"\n",
        "    Asks the user to input numbers and stores them in a list.\n",
        "    Stops when the user enters a blank line.\n",
        "    \"\"\"\n",
        "    user_numbers = []\n",
        "    while True:\n",
        "        user_input = input(\"Enter a number: \")\n",
        "\n",
        "        if user_input == \"\":  # Stop when user enters a blank line\n",
        "            break\n",
        "\n",
        "        user_numbers.append(int(user_input))  # Convert input to integer and add to list\n",
        "\n",
        "    return user_numbers\n",
        "\n",
        "def count_nums(num_list):\n",
        "    \"\"\"\n",
        "    Counts the occurrences of each number in the list using a dictionary.\n",
        "    \"\"\"\n",
        "    num_dict = {}\n",
        "    for num in num_list:\n",
        "        num_dict[num] = num_dict.get(num, 0) + 1  # Increment count\n",
        "\n",
        "    return num_dict\n",
        "\n",
        "def print_counts(num_dict):\n",
        "    \"\"\"\n",
        "    Prints each number and how many times it appears.\n",
        "    \"\"\"\n",
        "    for num, count in num_dict.items():\n",
        "        print(f\"{num} appears {count} times.\")\n",
        "\n",
        "def main():\n",
        "    \"\"\"\n",
        "    Gets user input, counts occurrences, and prints the results.\n",
        "    \"\"\"\n",
        "    user_numbers = get_user_numbers()\n",
        "    num_dict = count_nums(user_numbers)\n",
        "    print_counts(num_dict)\n",
        "\n",
        "if __name__ == '__main__':\n",
        "    main()\n",
        "6\n"
      ],
      "metadata": {
        "colab": {
          "base_uri": "https://localhost:8080/"
        },
        "id": "mSh4_XY3UWhC",
        "outputId": "8afcd009-8d4f-46b8-c9c5-c1f12d02bcfc"
      },
      "execution_count": null,
      "outputs": [
        {
          "output_type": "stream",
          "name": "stdout",
          "text": [
            "Enter a number: 3\n",
            "Enter a number: 4\n",
            "Enter a number: \n",
            "3 appears 1 times.\n",
            "4 appears 1 times.\n"
          ]
        },
        {
          "output_type": "execute_result",
          "data": {
            "text/plain": [
              "6"
            ]
          },
          "metadata": {},
          "execution_count": 53
        }
      ]
    },
    {
      "cell_type": "markdown",
      "source": [
        "**01_phonebook**"
      ],
      "metadata": {
        "id": "FmEBGm7CVE7g"
      }
    },
    {
      "cell_type": "code",
      "source": [
        "def read_phone_numbers():\n",
        "    \"\"\"\n",
        "    Asks the user for names and numbers to store in a phonebook (dictionary).\n",
        "    Returns the phonebook.\n",
        "    \"\"\"\n",
        "    phonebook = {}\n",
        "\n",
        "    while True:\n",
        "        name = input(\"Name: \")\n",
        "        if name == \"\":\n",
        "            break\n",
        "        number = input(\"Number: \")\n",
        "        phonebook[name] = number\n",
        "\n",
        "    return phonebook\n",
        "\n",
        "def print_phonebook(phonebook):\n",
        "    \"\"\"\n",
        "    Prints all the names and numbers in the phonebook.\n",
        "    \"\"\"\n",
        "    for name, number in phonebook.items():\n",
        "        print(f\"{name} -> {number}\")\n",
        "\n",
        "def lookup_numbers(phonebook):\n",
        "    \"\"\"\n",
        "    Allows the user to look up phone numbers in the phonebook by name.\n",
        "    \"\"\"\n",
        "    while True:\n",
        "        name = input(\"Enter name to lookup: \")\n",
        "        if name == \"\":\n",
        "            break\n",
        "        if name in phonebook:\n",
        "            print(phonebook[name])\n",
        "        else:\n",
        "            print(f\"{name} is not in the phonebook\")\n",
        "\n",
        "def main():\n",
        "    \"\"\"\n",
        "    Reads phone numbers, prints the phonebook, and allows lookups.\n",
        "    \"\"\"\n",
        "    phonebook = read_phone_numbers()\n",
        "    print_phonebook(phonebook)\n",
        "    lookup_numbers(phonebook)\n",
        "\n",
        "if __name__ == '__main__':\n",
        "    main()\n"
      ],
      "metadata": {
        "colab": {
          "base_uri": "https://localhost:8080/"
        },
        "id": "3lYQ_FBzVGe3",
        "outputId": "e8b3b3a4-d2dc-4eaf-cfb4-72cbb2d11c95"
      },
      "execution_count": null,
      "outputs": [
        {
          "name": "stdout",
          "output_type": "stream",
          "text": [
            "Name: Bisma\n",
            "Number: 7\n",
            "Name: Yousuf\n",
            "Number: 5\n",
            "Name: \n",
            "Bisma -> 7\n",
            "Yousuf -> 5\n",
            "Enter name to lookup: Bisma\n",
            "7\n",
            "Enter name to lookup: Yousuf\n",
            "5\n",
            "Enter name to lookup: \n"
          ]
        }
      ]
    },
    {
      "cell_type": "markdown",
      "source": [
        "**02_pop_up_shop.**"
      ],
      "metadata": {
        "id": "glMcYhNEV9YV"
      }
    },
    {
      "cell_type": "code",
      "source": [
        "def main():\n",
        "    fruits = {\n",
        "        'apple': 1.5,\n",
        "        'durian': 50,\n",
        "        'jackfruit': 80,\n",
        "        'kiwi': 1,\n",
        "        'rambutan': 1.5,\n",
        "        'mango': 5\n",
        "    }\n",
        "\n",
        "    total_cost = 0\n",
        "    for fruit in fruits:\n",
        "        price = fruits[fruit]\n",
        "        quantity = int(input(f\"How many ({fruit}) do you want to buy?: \"))\n",
        "        total_cost += price * quantity\n",
        "\n",
        "    print(f\"Your total is ${total_cost}\")\n",
        "\n",
        "if __name__ == '__main__':\n",
        "    main()\n"
      ],
      "metadata": {
        "colab": {
          "base_uri": "https://localhost:8080/"
        },
        "id": "u4pCNS-lWAyk",
        "outputId": "b919afa9-7348-4546-bbca-ffef18a714e1"
      },
      "execution_count": null,
      "outputs": [
        {
          "output_type": "stream",
          "name": "stdout",
          "text": [
            "How many (apple) do you want to buy?: 5\n",
            "How many (durian) do you want to buy?: 4\n",
            "How many (jackfruit) do you want to buy?: 3\n",
            "How many (kiwi) do you want to buy?: 2\n",
            "How many (rambutan) do you want to buy?: 6\n",
            "How many (mango) do you want to buy?: 7\n",
            "Your total is $493.5\n"
          ]
        }
      ]
    },
    {
      "cell_type": "markdown",
      "source": [
        "**03_powerful_passwords**"
      ],
      "metadata": {
        "id": "L4nKRCK1WVe4"
      }
    },
    {
      "cell_type": "code",
      "source": [
        "from hashlib import sha256\n",
        "\n",
        "def hash_password(password):\n",
        "    return sha256(password.encode()).hexdigest()\n",
        "\n",
        "def login(email, stored_logins, password):\n",
        "    return stored_logins.get(email) == hash_password(password)\n",
        "\n",
        "def main():\n",
        "    stored_logins = {\n",
        "        \"example@gmail.com\": hash_password(\"password\"),\n",
        "        \"user@site.com\": hash_password(\"hello123\")\n",
        "    }\n",
        "\n",
        "    email = input(\"Enter your email: \")\n",
        "    password = input(\"Enter your password: \")\n",
        "\n",
        "    if login(email, stored_logins, password):\n",
        "        print(\"Login successful!\")\n",
        "    else:\n",
        "        print(\"Wrong email or password.\")\n",
        "\n",
        "if __name__ == '__main__':\n",
        "    main()\n"
      ],
      "metadata": {
        "colab": {
          "base_uri": "https://localhost:8080/"
        },
        "id": "u_C3YIyMWZt8",
        "outputId": "21ab6c26-edc8-40d9-dcf8-afc35cf1b74b"
      },
      "execution_count": null,
      "outputs": [
        {
          "output_type": "stream",
          "name": "stdout",
          "text": [
            "Enter your email: bismayousuf540@gmail.com\n",
            "Enter your password: hello123\n",
            "Wrong email or password.\n"
          ]
        }
      ]
    },
    {
      "cell_type": "markdown",
      "source": [
        "# 05_loops_control_flow"
      ],
      "metadata": {
        "id": "eOPda5PkN0Wo"
      }
    },
    {
      "cell_type": "markdown",
      "source": [
        "**00_guess_my_number**"
      ],
      "metadata": {
        "id": "kfp1n8gLOCPS"
      }
    },
    {
      "cell_type": "code",
      "source": [
        "import random\n",
        "\n",
        "def main():\n",
        "    secret_number = random.randint(1, 9)\n",
        "    print(\"I am thinking of a number between 1 and 9...\")\n",
        "\n",
        "    guess = int(input(\"Enter a guess: \"))\n",
        "\n",
        "    while guess != secret_number:\n",
        "        if guess < secret_number:\n",
        "            print(\"Your guess is too low\")\n",
        "        else:\n",
        "            print(\"Your guess is too high\")\n",
        "\n",
        "        guess = int(input(\"Enter a new guess: \"))\n",
        "\n",
        "    print(\"Congrats😍! The number was:\", secret_number)\n",
        "\n",
        "if __name__ == '__main__':\n",
        "    main()"
      ],
      "metadata": {
        "colab": {
          "base_uri": "https://localhost:8080/"
        },
        "id": "mM2kc7AoODKe",
        "outputId": "86805a06-7397-4f75-9740-46a308b14337"
      },
      "execution_count": 7,
      "outputs": [
        {
          "output_type": "stream",
          "name": "stdout",
          "text": [
            "I am thinking of a number between 1 and 9...\n",
            "Enter a guess: 5\n",
            "Congrats😍! The number was: 5\n"
          ]
        }
      ]
    },
    {
      "cell_type": "markdown",
      "source": [
        "**01_fibonacci**"
      ],
      "metadata": {
        "id": "SS7JdBMPPF42"
      }
    },
    {
      "cell_type": "code",
      "source": [
        "max_term_value = 10000\n",
        "\n",
        "def main():\n",
        "    curr_term = 0  # The 0th Fibonacci Number\n",
        "    next_term = 1  # The 1st Fibonacci Number\n",
        "\n",
        "    while curr_term <= max_term_value:\n",
        "        print(curr_term, end=\" \")\n",
        "        term_after_next = curr_term + next_term\n",
        "        curr_term = next_term\n",
        "        next_term = term_after_next\n",
        "\n",
        "if __name__ == '__main__':\n",
        "    main()"
      ],
      "metadata": {
        "colab": {
          "base_uri": "https://localhost:8080/"
        },
        "id": "1tmy0kk_PJ0Z",
        "outputId": "4b54045e-0ae0-4710-943a-5ad89339f906"
      },
      "execution_count": 9,
      "outputs": [
        {
          "output_type": "stream",
          "name": "stdout",
          "text": [
            "0 1 1 2 3 5 8 13 21 34 55 89 144 233 377 610 987 1597 2584 4181 6765 "
          ]
        }
      ]
    },
    {
      "cell_type": "markdown",
      "source": [
        "**02_print_events**"
      ],
      "metadata": {
        "id": "6pbu-YnnPZ3W"
      }
    },
    {
      "cell_type": "code",
      "source": [
        "def main():\n",
        "    # Print the first 20 even numbers\n",
        "    for i in range(20):\n",
        "        print(i * 2, end=\" \")\n",
        "\n",
        "if __name__ == \"__main__\":\n",
        "    main()"
      ],
      "metadata": {
        "colab": {
          "base_uri": "https://localhost:8080/"
        },
        "id": "rI2Lt_oRPbDI",
        "outputId": "b4fff36c-1994-48dd-fb7c-08f57fd3a4e4"
      },
      "execution_count": 10,
      "outputs": [
        {
          "output_type": "stream",
          "name": "stdout",
          "text": [
            "0 2 4 6 8 10 12 14 16 18 20 22 24 26 28 30 32 34 36 38 "
          ]
        }
      ]
    },
    {
      "cell_type": "markdown",
      "source": [
        "**03_wholesome_machine**"
      ],
      "metadata": {
        "id": "mcTrSep-Pk_l"
      }
    },
    {
      "cell_type": "code",
      "source": [
        "affirmation = \"I am capable of doing anything I put my mind to.\"\n",
        "\n",
        "def main():\n",
        "    print(\"Please type the following affirmation: \" + affirmation)\n",
        "\n",
        "    while True:\n",
        "        user_input = input()\n",
        "        if user_input == affirmation:\n",
        "            print(\"That's right! :)\")\n",
        "            break\n",
        "        print(\"That was not the affirmation. Please try again.\")\n",
        "\n",
        "if __name__ == '__main__':\n",
        "    main()"
      ],
      "metadata": {
        "colab": {
          "base_uri": "https://localhost:8080/"
        },
        "id": "vyPqeMwnPl_w",
        "outputId": "483cf7dc-2ba9-43d2-d69e-bfdf38f9f6d5"
      },
      "execution_count": 12,
      "outputs": [
        {
          "output_type": "stream",
          "name": "stdout",
          "text": [
            "Please type the following affirmation: I am capable of doing anything I put my mind to.\n",
            "I am capable of doing anything I put my mind to.\n",
            "That's right! :)\n"
          ]
        }
      ]
    },
    {
      "cell_type": "markdown",
      "source": [
        "**04_liftoff**"
      ],
      "metadata": {
        "id": "ANXXkNG1QK44"
      }
    },
    {
      "cell_type": "code",
      "source": [
        "def main():\n",
        "    # Countdown from 10 to 1\n",
        "    for i in range(10, 0, -1):\n",
        "        print(i, end=\" \")\n",
        "    print(\"Liftoff!\")\n",
        "\n",
        "if __name__ == \"__main__\":\n",
        "    main()"
      ],
      "metadata": {
        "colab": {
          "base_uri": "https://localhost:8080/"
        },
        "id": "2gkI1GtKQOG3",
        "outputId": "d9936550-a7f4-4a1c-e3fb-caaf1c34b9f0"
      },
      "execution_count": 13,
      "outputs": [
        {
          "output_type": "stream",
          "name": "stdout",
          "text": [
            "10 9 8 7 6 5 4 3 2 1 Liftoff!\n"
          ]
        }
      ]
    },
    {
      "cell_type": "markdown",
      "source": [
        "**05_double_it**"
      ],
      "metadata": {
        "id": "JMJ9KZLDQXut"
      }
    },
    {
      "cell_type": "code",
      "source": [
        "def main():\n",
        "    curr_value = int(input(\"Enter a number: \"))\n",
        "\n",
        "    while curr_value < 100:\n",
        "        print(curr_value, end=\" \")\n",
        "        curr_value *= 2\n",
        "\n",
        "    print(curr_value)  # Print the last doubled value\n",
        "\n",
        "if __name__ == \"__main__\":\n",
        "    main()\n"
      ],
      "metadata": {
        "colab": {
          "base_uri": "https://localhost:8080/"
        },
        "id": "8Aaa1ZovQYnF",
        "outputId": "68f1caf6-a2bc-4aa6-d5cb-be006953ae4b"
      },
      "execution_count": 14,
      "outputs": [
        {
          "output_type": "stream",
          "name": "stdout",
          "text": [
            "Enter a number: 10\n",
            "10 20 40 80 160\n"
          ]
        }
      ]
    },
    {
      "cell_type": "markdown",
      "source": [
        "# 06_functions\n",
        "**00_averages**"
      ],
      "metadata": {
        "id": "Kxb4XsggQhym"
      }
    },
    {
      "cell_type": "code",
      "source": [
        "def average(a: float, b: float):\n",
        "    \"\"\"\n",
        "    Returns the number which is halfway between a and b\n",
        "    \"\"\"\n",
        "    return (a + b) / 2\n",
        "\n",
        "def main():\n",
        "    num1 = float(input(\"Enter the first number: \"))\n",
        "    num2 = float(input(\"Enter the second number: \"))\n",
        "\n",
        "    avg = average(num1, num2)\n",
        "    print(\"The average is:\", avg)\n",
        "\n",
        "if __name__ == \"__main__\":\n",
        "    main()"
      ],
      "metadata": {
        "colab": {
          "base_uri": "https://localhost:8080/"
        },
        "id": "B4SNlfELQpJW",
        "outputId": "197713ae-0133-4bda-b81e-3f175389cbb7"
      },
      "execution_count": 15,
      "outputs": [
        {
          "output_type": "stream",
          "name": "stdout",
          "text": [
            "Enter the first number: 2\n",
            "Enter the second number: 2\n",
            "The average is: 2.0\n"
          ]
        }
      ]
    },
    {
      "cell_type": "markdown",
      "source": [
        "**01_chaotic_counting**"
      ],
      "metadata": {
        "id": "CB7QTB0fQ4Tb"
      }
    },
    {
      "cell_type": "code",
      "source": [
        "import random\n",
        "\n",
        "done_likelihood = 0.3  # Adjust the likelihood as needed\n",
        "\n",
        "def done():\n",
        "    \"\"\" Returns True with a probability of done_likelihood \"\"\"\n",
        "    return random.random() < done_likelihood\n",
        "\n",
        "def chaotic_counting():\n",
        "    for i in range(1, 11):  # Counting from 1 to 10\n",
        "        if done():\n",
        "            return  # Stop counting if done() returns True\n",
        "        print(i)\n",
        "\n",
        "def main():\n",
        "    print(\"I'm going to count until 10 or until I feel like stopping, whichever comes first.\")\n",
        "    chaotic_counting()\n",
        "    print(\"I'm done\")\n",
        "\n",
        "if __name__ == \"__main__\":\n",
        "    main()"
      ],
      "metadata": {
        "colab": {
          "base_uri": "https://localhost:8080/"
        },
        "id": "sSeaxDkDQ7oc",
        "outputId": "722e25e8-e437-4ced-d7c0-06f54ec1b66f"
      },
      "execution_count": 16,
      "outputs": [
        {
          "output_type": "stream",
          "name": "stdout",
          "text": [
            "I'm going to count until 10 or until I feel like stopping, whichever comes first.\n",
            "1\n",
            "2\n",
            "3\n",
            "I'm done\n"
          ]
        }
      ]
    },
    {
      "cell_type": "markdown",
      "source": [
        "**02_count_even**"
      ],
      "metadata": {
        "id": "JJ0np5GdRTKN"
      }
    },
    {
      "cell_type": "code",
      "source": [
        "def count_even(lst):\n",
        "    count = 0\n",
        "    for num in lst:\n",
        "        if num % 2 == 0:\n",
        "            count += 1\n",
        "    print(count)\n",
        "\n",
        "def get_list_of_ints():\n",
        "    lst = []\n",
        "    user_input = input(\"Enter an integer or press enter to stop: \")\n",
        "    while user_input != \"\":\n",
        "        lst.append(int(user_input))\n",
        "        user_input = input(\"Enter an integer or press enter to stop: \")\n",
        "    return lst\n",
        "\n",
        "def main():\n",
        "    lst = get_list_of_ints()\n",
        "    count_even(lst)\n",
        "\n",
        "if __name__ == '__main__':\n",
        "    main()\n"
      ],
      "metadata": {
        "colab": {
          "base_uri": "https://localhost:8080/"
        },
        "id": "0bvNbLCARUEf",
        "outputId": "7e8a4cc3-035c-4626-9c02-e07c7e02c2eb"
      },
      "execution_count": 18,
      "outputs": [
        {
          "output_type": "stream",
          "name": "stdout",
          "text": [
            "Enter an integer or press enter to stop: 4\n",
            "Enter an integer or press enter to stop: \n",
            "1\n"
          ]
        }
      ]
    },
    {
      "cell_type": "markdown",
      "source": [
        "**04_double**"
      ],
      "metadata": {
        "id": "WhrKnbzYRzpl"
      }
    },
    {
      "cell_type": "code",
      "source": [
        "def double(num: int):\n",
        "    return num * 2\n",
        "\n",
        "def main():\n",
        "    num = int(input(\"Enter a number: \"))\n",
        "    num_times_2 = double(num)\n",
        "    print(\"Double that is\", num_times_2)\n",
        "\n",
        "if __name__ == '__main__':\n",
        "    main()\n"
      ],
      "metadata": {
        "colab": {
          "base_uri": "https://localhost:8080/"
        },
        "id": "EAHYwi1aR6L2",
        "outputId": "1abdd4fa-4987-4c58-fc88-8d98f040bd2e"
      },
      "execution_count": 19,
      "outputs": [
        {
          "output_type": "stream",
          "name": "stdout",
          "text": [
            "Enter a number: 5\n",
            "Double that is 10\n"
          ]
        }
      ]
    },
    {
      "cell_type": "markdown",
      "source": [
        "**05_get_name**"
      ],
      "metadata": {
        "id": "G1JLKOi5SBTp"
      }
    },
    {
      "cell_type": "code",
      "source": [
        "def get_name():\n",
        "    return \"\".join([\"S\", \"o\", \"p\", \"h\", \"i\", \"a\"])  # Builds the name from a list\n",
        "\n",
        "def main():\n",
        "    name = get_name()\n",
        "    print(f\"Howdy {name}! 🤠\")  # Using f-string for formatting\n",
        "\n",
        "if __name__ == '__main__':\n",
        "    main()\n"
      ],
      "metadata": {
        "colab": {
          "base_uri": "https://localhost:8080/"
        },
        "id": "sZ9W4BZ4SEpi",
        "outputId": "aa0cd67a-0d49-4da3-ae2a-d8a9d5b3f6a8"
      },
      "execution_count": 20,
      "outputs": [
        {
          "output_type": "stream",
          "name": "stdout",
          "text": [
            "Howdy Sophia! 🤠\n"
          ]
        }
      ]
    },
    {
      "cell_type": "markdown",
      "source": [
        "**06_is_odd**"
      ],
      "metadata": {
        "id": "QDFSHWb8ScHM"
      }
    },
    {
      "cell_type": "code",
      "source": [
        "def even_odd():\n",
        "    for num in range(10, 20):\n",
        "        if num % 2 == 0:\n",
        "            print(num, \"even\")\n",
        "        else:\n",
        "            print(num, \"odd\")\n",
        "\n",
        "even_odd()\n"
      ],
      "metadata": {
        "colab": {
          "base_uri": "https://localhost:8080/"
        },
        "id": "6lMgkeE_Sf13",
        "outputId": "da4aae16-8d51-4a0a-fe2e-da00da27d1f8"
      },
      "execution_count": 21,
      "outputs": [
        {
          "output_type": "stream",
          "name": "stdout",
          "text": [
            "10 even\n",
            "11 odd\n",
            "12 even\n",
            "13 odd\n",
            "14 even\n",
            "15 odd\n",
            "16 even\n",
            "17 odd\n",
            "18 even\n",
            "19 odd\n"
          ]
        }
      ]
    },
    {
      "cell_type": "markdown",
      "source": [
        "**07_print_divisor**"
      ],
      "metadata": {
        "id": "S_vodyP0SoZd"
      }
    },
    {
      "cell_type": "code",
      "source": [
        "def print_divisors(num):\n",
        "    for i in range(1, num + 1):\n",
        "        if num % i == 0:\n",
        "            print(i, end=\" \")\n",
        "\n",
        "def main():\n",
        "    num = int(input(\"Enter a number: \"))\n",
        "    print(\"Here are the divisors of\", num)\n",
        "    print_divisors(num)\n",
        "\n",
        "if __name__ == '__main__':\n",
        "    main()\n"
      ],
      "metadata": {
        "colab": {
          "base_uri": "https://localhost:8080/"
        },
        "id": "bC1R7hp6Spcz",
        "outputId": "23ac820e-89bc-40d1-de09-4e3bbc06b098"
      },
      "execution_count": 22,
      "outputs": [
        {
          "output_type": "stream",
          "name": "stdout",
          "text": [
            "Enter a number: 8\n",
            "Here are the divisors of 8\n",
            "1 2 4 8 "
          ]
        }
      ]
    },
    {
      "cell_type": "markdown",
      "source": [
        "**08_print_multiple**"
      ],
      "metadata": {
        "id": "frwQcdvCSxbw"
      }
    },
    {
      "cell_type": "code",
      "source": [
        "def print_multiple(message, repeats):\n",
        "    for _ in range(repeats):\n",
        "        print(message, end=\" \")\n",
        "\n",
        "def main():\n",
        "    message = input(\"Please type a message: \")\n",
        "    repeats = int(input(\"Enter a number of times to repeat your message: \"))\n",
        "    print_multiple(message, repeats)\n",
        "\n",
        "if __name__ == '__main__':\n",
        "    main()\n"
      ],
      "metadata": {
        "colab": {
          "base_uri": "https://localhost:8080/"
        },
        "id": "NFiWH9KYS0to",
        "outputId": "09c590a4-8c4b-425f-b3be-a7afa8286575"
      },
      "execution_count": 24,
      "outputs": [
        {
          "output_type": "stream",
          "name": "stdout",
          "text": [
            "Please type a message: Bisma\n",
            "Enter a number of times to repeat your message: 3\n",
            "Bisma Bisma Bisma "
          ]
        }
      ]
    },
    {
      "cell_type": "markdown",
      "source": [
        "**09_sentence_generator**"
      ],
      "metadata": {
        "id": "6bDo7Nt8TBuo"
      }
    },
    {
      "cell_type": "code",
      "source": [
        "def make_sentence(word, part_of_speech):\n",
        "    if part_of_speech == 0:\n",
        "        print(f\"I am excited to add this {word} to my vast collection of them!\")\n",
        "    elif part_of_speech == 1:\n",
        "        print(f\"It's so nice outside today it makes me want to {word}!\")\n",
        "    elif part_of_speech == 2:\n",
        "        print(f\"Looking out my window, the sky is big and {word}!\")\n",
        "\n",
        "def main():\n",
        "    word = input(\"Please type a noun, verb, or adjective: \")\n",
        "    part_of_speech = int(input(\"Is this a noun, verb, or adjective? Type 0 for noun, 1 for verb, 2 for adjective: \"))\n",
        "    make_sentence(word, part_of_speech)\n",
        "\n",
        "if __name__ == '__main__':\n",
        "    main()\n"
      ],
      "metadata": {
        "colab": {
          "base_uri": "https://localhost:8080/"
        },
        "id": "r9GPKPAkTFC-",
        "outputId": "b1b14ea6-16e7-4c54-efc4-49b6f31e0525"
      },
      "execution_count": 28,
      "outputs": [
        {
          "output_type": "stream",
          "name": "stdout",
          "text": [
            "Please type a noun, verb, or adjective: laptop\n",
            "Is this a noun, verb, or adjective? Type 0 for noun, 1 for verb, 2 for adjective: 0\n",
            "I am excited to add this laptop to my vast collection of them!\n"
          ]
        }
      ]
    },
    {
      "cell_type": "markdown",
      "source": [
        "**10_print_ones_digit**"
      ],
      "metadata": {
        "id": "nE52DfOeTr8k"
      }
    },
    {
      "cell_type": "code",
      "source": [
        "def print_ones_digit(num):\n",
        "    print(\"The ones digit is\", num % 10)\n",
        "\n",
        "def main():\n",
        "    num = int(input(\"Enter a number: \"))\n",
        "    print_ones_digit(num)\n",
        "\n",
        "if __name__ == '__main__':\n",
        "    main()\n"
      ],
      "metadata": {
        "colab": {
          "base_uri": "https://localhost:8080/"
        },
        "id": "WZ2HP5m0TwY6",
        "outputId": "d0ee40bb-d244-411f-e449-32924b7b9ee1"
      },
      "execution_count": 30,
      "outputs": [
        {
          "output_type": "stream",
          "name": "stdout",
          "text": [
            "Enter a number: 2\n",
            "The ones digit is 2\n"
          ]
        }
      ]
    },
    {
      "cell_type": "markdown",
      "source": [
        "# 07_information_flow\n",
        "**00_choosing_returns**"
      ],
      "metadata": {
        "id": "9Q0neQJJT7Jv"
      }
    },
    {
      "cell_type": "code",
      "source": [
        "adult_age = 18\n",
        "\n",
        "def is_adult(age):\n",
        "    return age >= adult_age\n",
        "\n",
        "def main():\n",
        "    age = int(input(\"How old is this person?: \"))\n",
        "    print(is_adult(age))\n",
        "\n",
        "if __name__ == '__main__':\n",
        "    main()\n"
      ],
      "metadata": {
        "colab": {
          "base_uri": "https://localhost:8080/"
        },
        "id": "wgXC3b91UT6c",
        "outputId": "048c1b33-76f4-4fbf-ca69-3bb75ef080c6"
      },
      "execution_count": 31,
      "outputs": [
        {
          "output_type": "stream",
          "name": "stdout",
          "text": [
            "How old is this person?: 20\n",
            "True\n"
          ]
        }
      ]
    },
    {
      "cell_type": "markdown",
      "source": [
        "**01_greetings**"
      ],
      "metadata": {
        "id": "WPsS4_FEUqlK"
      }
    },
    {
      "cell_type": "code",
      "source": [
        "def greet(name):\n",
        "    print(\"Greetings\", name + \"!\")\n",
        "\n",
        "def main():\n",
        "    name = input(\"What's your name? \")\n",
        "    greet(name)\n",
        "\n",
        "if __name__ == '__main__':\n",
        "    main()\n"
      ],
      "metadata": {
        "colab": {
          "base_uri": "https://localhost:8080/"
        },
        "id": "S8ZXnFlRUydZ",
        "outputId": "cfdefe76-764a-4fde-a163-b14ab41c6ca2"
      },
      "execution_count": 32,
      "outputs": [
        {
          "output_type": "stream",
          "name": "stdout",
          "text": [
            "What's your name? Bisma\n",
            "Greetings Bisma!\n"
          ]
        }
      ]
    },
    {
      "cell_type": "markdown",
      "source": [
        "**02_in_range**"
      ],
      "metadata": {
        "id": "DnZ3owBIU6ua"
      }
    },
    {
      "cell_type": "code",
      "source": [
        "def in_range(n, low, high):\n",
        "    \"\"\"Returns True if n is between low and high, inclusive.\"\"\"\n",
        "    return low <= n <= high\n",
        "\n",
        "# Example usage\n",
        "print(in_range(5, 1, 10))  # True\n",
        "print(in_range(15, 1, 10)) # False\n"
      ],
      "metadata": {
        "colab": {
          "base_uri": "https://localhost:8080/"
        },
        "id": "mKt1XicOU_54",
        "outputId": "9011984b-225f-40dc-af24-188839090578"
      },
      "execution_count": 33,
      "outputs": [
        {
          "output_type": "stream",
          "name": "stdout",
          "text": [
            "True\n",
            "False\n"
          ]
        }
      ]
    },
    {
      "cell_type": "markdown",
      "source": [
        "**03_in_stock**"
      ],
      "metadata": {
        "id": "Bco6OPV2VJfs"
      }
    },
    {
      "cell_type": "code",
      "source": [
        "# Sophia's inventory\n",
        "inventory = {\n",
        "    \"apple\": 50,\n",
        "    \"banana\": 30,\n",
        "    \"orange\": 20,\n",
        "    \"pear\": 1000\n",
        "}\n",
        "\n",
        "def num_in_stock(fruit):\n",
        "    return inventory.get(fruit, 0)\n",
        "\n",
        "def main():\n",
        "    fruit = input(\"Enter a fruit: \")\n",
        "    count = num_in_stock(fruit)\n",
        "\n",
        "    if count > 0:\n",
        "        print(\"\\nThis fruit is in stock! Here is how many:\\n\")\n",
        "        print(count)\n",
        "    else:\n",
        "        print(\"\\nThis fruit is not in stock.\")\n",
        "\n",
        "main()\n"
      ],
      "metadata": {
        "colab": {
          "base_uri": "https://localhost:8080/"
        },
        "id": "1qc0FZOrVNoh",
        "outputId": "d8bfe833-662b-4f51-ea3c-1159e76d5c98"
      },
      "execution_count": 34,
      "outputs": [
        {
          "output_type": "stream",
          "name": "stdout",
          "text": [
            "Enter a fruit: apple\n",
            "\n",
            "This fruit is in stock! Here is how many:\n",
            "\n",
            "50\n"
          ]
        }
      ]
    },
    {
      "cell_type": "markdown",
      "source": [
        "**04_multiple_returns**"
      ],
      "metadata": {
        "id": "iRclg7imVj61"
      }
    },
    {
      "cell_type": "code",
      "source": [
        "def get_user_data():\n",
        "    first_name = input(\"What is your first name?: \")\n",
        "    last_name = input(\"What is your last name?: \")\n",
        "    email = input(\"What is your email address?: \")\n",
        "\n",
        "    return first_name, last_name, email  # Returning multiple values as a tuple\n",
        "\n",
        "# Calling the function and printing the returned tuple\n",
        "user_data = get_user_data()\n",
        "print(\"\\nReceived the following user data:\", user_data)\n"
      ],
      "metadata": {
        "colab": {
          "base_uri": "https://localhost:8080/"
        },
        "id": "5_WGe5lKVngR",
        "outputId": "fc466f21-585a-48d0-f3d7-4a821a9eb2ec"
      },
      "execution_count": 35,
      "outputs": [
        {
          "output_type": "stream",
          "name": "stdout",
          "text": [
            "What is your first name?: Bisma\n",
            "What is your last name?: Yousuf\n",
            "What is your email address?: bismayousuf540@gmail.com\n",
            "\n",
            "Received the following user data: ('Bisma', 'Yousuf', 'bismayousuf540@gmail.com')\n"
          ]
        }
      ]
    },
    {
      "cell_type": "markdown",
      "source": [
        "**05_subtract_7**"
      ],
      "metadata": {
        "id": "uJz_zgSXVzyN"
      }
    },
    {
      "cell_type": "code",
      "source": [
        "def subtract_seven(num):\n",
        "    return num - 7  # Subtracts 7 from the given number\n",
        "\n",
        "def main():\n",
        "    number = int(input(\"Enter a number: \"))  # Get user input\n",
        "    result = subtract_seven(number)  # Call the function\n",
        "    print(\"Result after subtracting 7:\", result)  # Print result\n",
        "\n",
        "main()\n"
      ],
      "metadata": {
        "colab": {
          "base_uri": "https://localhost:8080/"
        },
        "id": "dCaq7uuTV26o",
        "outputId": "fad59d04-559e-44c9-fcdb-8265aa724309"
      },
      "execution_count": 36,
      "outputs": [
        {
          "output_type": "stream",
          "name": "stdout",
          "text": [
            "Enter a number: 6\n",
            "Result after subtracting 7: -1\n"
          ]
        }
      ]
    }
  ]
}