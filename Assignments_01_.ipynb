{
  "nbformat": 4,
  "nbformat_minor": 0,
  "metadata": {
    "colab": {
      "provenance": []
    },
    "kernelspec": {
      "name": "python3",
      "display_name": "Python 3"
    },
    "language_info": {
      "name": "python"
    }
  },
  "cells": [
    {
      "cell_type": "markdown",
      "source": [
        "# 01_basics\n",
        "**00_joke_bot**"
      ],
      "metadata": {
        "id": "RfUrP5xiYpiE"
      }
    },
    {
      "cell_type": "code",
      "source": [
        "PROMPT = \"What do you want? \"\n",
        "JOKE = \"\"\"Here is a joke for you!\n",
        "Panaversity GPT - Sophia is heading out to the grocery store. A programmer tells her: get a liter of milk, and if they have eggs, get 12.\n",
        "Sophia returns with 13 liters of milk. The programmer asks why and Sophia replies: 'because they had eggs'\"\"\"\n",
        "SORRY = \"Sorry, I only tell jokes.\"\n",
        "\n",
        "def joke_bot():\n",
        "    user_input = input(PROMPT)\n",
        "\n",
        "    if user_input == \"joke\":\n",
        "        print(JOKE)\n",
        "    else:\n",
        "        print(SORRY)\n",
        "\n",
        "joke_bot()\n",
        "\n"
      ],
      "metadata": {
        "colab": {
          "base_uri": "https://localhost:8080/"
        },
        "id": "uDoL98stYsQA",
        "outputId": "2e047642-2161-428f-972b-e5368d35fa6c"
      },
      "execution_count": null,
      "outputs": [
        {
          "output_type": "stream",
          "name": "stdout",
          "text": [
            "What do you want? joke\n",
            "Here is a joke for you! \n",
            "Panaversity GPT - Sophia is heading out to the grocery store. A programmer tells her: get a liter of milk, and if they have eggs, get 12. \n",
            "Sophia returns with 13 liters of milk. The programmer asks why and Sophia replies: 'because they had eggs'\n"
          ]
        }
      ]
    },
    {
      "cell_type": "markdown",
      "source": [
        "**01_double_it**"
      ],
      "metadata": {
        "id": "vvV-IK6eabwI"
      }
    },
    {
      "cell_type": "code",
      "source": [
        "curr_value = int(input(\"Enter a number: \"))  # Get user input\n",
        "\n",
        "while curr_value < 100:  # Repeat until the value is 100 or more\n",
        "    curr_value *= 2  # Double the value\n",
        "    print(curr_value, end=\" \")  # Print the value on the same line\n"
      ],
      "metadata": {
        "colab": {
          "base_uri": "https://localhost:8080/"
        },
        "id": "5WB46nd_an9N",
        "outputId": "db07072d-060a-43ef-e456-7cfe13461e93"
      },
      "execution_count": null,
      "outputs": [
        {
          "output_type": "stream",
          "name": "stdout",
          "text": [
            "Enter a number: 6\n",
            "12 24 48 96 192 "
          ]
        }
      ]
    },
    {
      "cell_type": "markdown",
      "source": [
        "**02_liftoff**"
      ],
      "metadata": {
        "id": "tFRR5_dmbfkK"
      }
    },
    {
      "cell_type": "code",
      "source": [
        "for i in range(10, 0, -1):\n",
        "    print(i, end=\" \")\n",
        "\n",
        "print(\"Liftoff!\")\n"
      ],
      "metadata": {
        "colab": {
          "base_uri": "https://localhost:8080/"
        },
        "id": "mcyEQ-O1bkn9",
        "outputId": "0f421c07-819b-414c-fd4d-dff5d23d9b35"
      },
      "execution_count": null,
      "outputs": [
        {
          "output_type": "stream",
          "name": "stdout",
          "text": [
            "10 9 8 7 6 5 4 3 2 1 Liftoff!\n"
          ]
        }
      ]
    },
    {
      "cell_type": "markdown",
      "source": [
        "**03_guess_my_number**"
      ],
      "metadata": {
        "id": "3ZffnHVjbvgU"
      }
    },
    {
      "cell_type": "code",
      "source": [
        "import random\n",
        "\n",
        "# Generate a random number between 0 and 99\n",
        "secret_number = random.randint(0, 9)\n",
        "\n",
        "# Ask the user for their first guess\n",
        "guess = int(input(\"I am thinking of a number between 0 and 9... Enter a guess: \"))\n",
        "\n",
        "while guess != secret_number:\n",
        "    if guess > secret_number:\n",
        "        print(\"Your guess is too high\")\n",
        "    else:\n",
        "        print(\"Your guess is too low\")\n",
        "\n",
        "    # Ask for a new guess\n",
        "    guess = int(input(\"Enter a new number: \"))\n",
        "\n",
        "# If they guess correctly, print the congrats message\n",
        "print(f\"Congrats😍! The number was: {secret_number}\")\n"
      ],
      "metadata": {
        "colab": {
          "base_uri": "https://localhost:8080/"
        },
        "id": "WMW96INhbz3b",
        "outputId": "da5f8384-f61e-47ca-b700-7bb014090205"
      },
      "execution_count": null,
      "outputs": [
        {
          "output_type": "stream",
          "name": "stdout",
          "text": [
            "I am thinking of a number between 0 and 9... Enter a guess: 5\n",
            "Your guess is too high\n",
            "Enter a new number: 4\n",
            "Your guess is too high\n",
            "Enter a new number: 3\n",
            "Your guess is too high\n",
            "Enter a new number: 2\n",
            "Your guess is too high\n",
            "Enter a new number: 1\n",
            "Congrats😍! The number was: 1\n"
          ]
        }
      ]
    },
    {
      "cell_type": "markdown",
      "source": [
        "**04_random_numbers**"
      ],
      "metadata": {
        "id": "p_4Q0lexcCQS"
      }
    },
    {
      "cell_type": "code",
      "source": [
        "import random\n",
        "\n",
        "for _ in range(10):\n",
        "    print(random.randint(1, 100), end=\" \")\n",
        "\n",
        "print()\n"
      ],
      "metadata": {
        "colab": {
          "base_uri": "https://localhost:8080/"
        },
        "id": "_-1Mq8MscF5t",
        "outputId": "33ba52b3-c308-49e0-a8e2-5823ad9cd03d"
      },
      "execution_count": null,
      "outputs": [
        {
          "output_type": "stream",
          "name": "stdout",
          "text": [
            "58 52 80 66 32 51 75 38 61 80 \n"
          ]
        }
      ]
    },
    {
      "cell_type": "markdown",
      "source": [
        "# 02_intermediate\n",
        "# Control Flow for Console\n",
        "**Milestone #1: Generate the random** **numbers**"
      ],
      "metadata": {
        "id": "tf7Zpe2fcPHb"
      }
    },
    {
      "cell_type": "code",
      "source": [
        "import random\n",
        "\n",
        "print(\"Welcome to the High-Low Game!🎉😍\")\n",
        "print(\"--------------------------------\")\n",
        "\n",
        "# Generate random numbers\n",
        "user_number = random.randint(1, 100)\n",
        "computer_number = random.randint(1, 100)\n",
        "\n",
        "# Print the generated numbers\n",
        "print(f\"The computer's number is {computer_number}\")\n",
        "print(f\"Your number is {user_number}\")\n"
      ],
      "metadata": {
        "colab": {
          "base_uri": "https://localhost:8080/"
        },
        "id": "wXd1DN70cdCA",
        "outputId": "93a33f12-933a-4308-d29c-6ade4945542d"
      },
      "execution_count": 20,
      "outputs": [
        {
          "output_type": "stream",
          "name": "stdout",
          "text": [
            "Welcome to the High-Low Game!\n",
            "--------------------------------\n",
            "The computer's number is 77\n",
            "Your number is 64\n"
          ]
        }
      ]
    },
    {
      "cell_type": "markdown",
      "source": [
        "**Milestone #2: Get the user** **choice**"
      ],
      "metadata": {
        "id": "uHPZmKxcfIH-"
      }
    },
    {
      "cell_type": "code",
      "source": [
        "import random\n",
        "\n",
        "print(\"Welcome to the High-Low Game!🎉😍\")\n",
        "print(\"--------------------------------\")\n",
        "\n",
        "# Generate random numbers\n",
        "user_number = random.randint(1, 100)\n",
        "computer_number = random.randint(1, 100)\n",
        "\n",
        "# Print the user's number (but not the computer's number)\n",
        "print(f\"Your number is {user_number}\")\n",
        "\n",
        "# Get user input\n",
        "guess = input(\"Do you think your number is higher or lower than the computer's?: \").lower()\n"
      ],
      "metadata": {
        "colab": {
          "base_uri": "https://localhost:8080/"
        },
        "id": "NZZVP-hIfMfE",
        "outputId": "eb979c3f-2553-40c8-d25b-3af5ea51770f"
      },
      "execution_count": 21,
      "outputs": [
        {
          "name": "stdout",
          "output_type": "stream",
          "text": [
            "Welcome to the High-Low Game!\n",
            "--------------------------------\n",
            "Your number is 19\n",
            "Do you think your number is higher or lower than the computer's?: higher\n"
          ]
        }
      ]
    },
    {
      "cell_type": "markdown",
      "source": [
        "**Milestone #3: Write the game** **logic**"
      ],
      "metadata": {
        "id": "07HBUBTqfbMU"
      }
    },
    {
      "cell_type": "code",
      "source": [
        "import random\n",
        "\n",
        "print(\"Welcome to the High-Low Game!😍🎉\")\n",
        "print(\"--------------------------------\")\n",
        "\n",
        "# Generate random numbers\n",
        "user_number = random.randint(1, 100)\n",
        "computer_number = random.randint(1, 100)\n",
        "\n",
        "# Print the user's number\n",
        "print(f\"Your number is {user_number}\")\n",
        "\n",
        "# Get user input\n",
        "guess = input(\"Do you think your number is higher or lower than the computer's?: \").lower()\n",
        "\n",
        "# Check who wins\n",
        "if user_number == computer_number:\n",
        "    print(f\"Aww, that's incorrect. The computer's number was {computer_number}\")\n",
        "elif (guess == \"higher\" and user_number > computer_number) or (guess == \"lower\" and user_number < computer_number):\n",
        "    print(f\"You were right! The computer's number was {computer_number}\")\n",
        "else:\n",
        "    print(f\"Aww, that's incorrect. The computer's number was {computer_number}\")\n"
      ],
      "metadata": {
        "colab": {
          "base_uri": "https://localhost:8080/"
        },
        "id": "0F9bDtwCffbc",
        "outputId": "a0662e71-98eb-4e99-cb13-06727c80e7ba"
      },
      "execution_count": 23,
      "outputs": [
        {
          "output_type": "stream",
          "name": "stdout",
          "text": [
            "Welcome to the High-Low Game!😍🎉\n",
            "--------------------------------\n",
            "Your number is 57\n",
            "Do you think your number is higher or lower than the computer's?: higher\n",
            "Aww, that's incorrect. The computer's number was 58\n"
          ]
        }
      ]
    },
    {
      "cell_type": "markdown",
      "source": [
        "**Milestone #4: Play multiple** **rounds**"
      ],
      "metadata": {
        "id": "fl-BRpctfuKY"
      }
    },
    {
      "cell_type": "code",
      "source": [
        "import random\n",
        "\n",
        "NUM_ROUNDS = 3  # Number of rounds to play\n",
        "\n",
        "print(\"Welcome to the High-Low Game!😍🎉\")\n",
        "print(\"--------------------------------\")\n",
        "\n",
        "for round_num in range(1, NUM_ROUNDS + 1):\n",
        "    print(f\"Round {round_num}\")\n",
        "\n",
        "    # Generate random numbers\n",
        "    user_number = random.randint(1, 100)\n",
        "    computer_number = random.randint(1, 100)\n",
        "\n",
        "    # Print the user's number\n",
        "    print(f\"Your number is {user_number}\")\n",
        "\n",
        "    # Get user input\n",
        "    guess = input(\"Do you think your number is higher or lower than the computer's?: \").lower()\n",
        "\n",
        "    # Check who wins\n",
        "    if user_number == computer_number:\n",
        "        print(\"Aww, that's incorrect.\")\n",
        "    elif (guess == \"higher\" and user_number > computer_number) or (guess == \"lower\" and user_number < computer_number):\n",
        "        print(\"You were right!\")\n",
        "    else:\n",
        "        print(\"Aww, that's incorrect.\")\n",
        "\n",
        "    print()  # Blank line to separate rounds\n",
        "\n",
        "print(\"Thanks for playing!\")\n"
      ],
      "metadata": {
        "colab": {
          "base_uri": "https://localhost:8080/"
        },
        "id": "F7q7OinAfvxr",
        "outputId": "3a230df2-adbb-41b8-8fa2-dd000d0714d2"
      },
      "execution_count": 25,
      "outputs": [
        {
          "output_type": "stream",
          "name": "stdout",
          "text": [
            "Welcome to the High-Low Game!😍🎉\n",
            "--------------------------------\n",
            "Round 1\n",
            "Your number is 21\n",
            "Do you think your number is higher or lower than the computer's?: lower\n",
            "You were right!\n",
            "\n",
            "Round 2\n",
            "Your number is 74\n",
            "Do you think your number is higher or lower than the computer's?: hhigher\n",
            "Aww, that's incorrect.\n",
            "\n",
            "Round 3\n",
            "Your number is 32\n",
            "Do you think your number is higher or lower than the computer's?: lower\n",
            "Aww, that's incorrect.\n",
            "\n",
            "Thanks for playing!\n"
          ]
        }
      ]
    },
    {
      "cell_type": "markdown",
      "source": [
        "**Milestone #5: Adding a points** **system**"
      ],
      "metadata": {
        "id": "7i1m7Ow7gOG0"
      }
    },
    {
      "cell_type": "code",
      "source": [
        "import random\n",
        "\n",
        "NUM_ROUNDS = 3  # Number of rounds to play\n",
        "score = 0  # Track the player's score\n",
        "\n",
        "print(\"Welcome to the High-Low Game!😍🎉\")\n",
        "print(\"--------------------------------\")\n",
        "\n",
        "for round_num in range(1, NUM_ROUNDS + 1):\n",
        "    print(f\"Round {round_num}\")\n",
        "\n",
        "    # Generate random numbers\n",
        "    user_number = random.randint(1, 100)\n",
        "    computer_number = random.randint(1, 100)\n",
        "\n",
        "    # Print the user's number\n",
        "    print(f\"Your number is {user_number}\")\n",
        "\n",
        "    # Get valid user input\n",
        "    while True:\n",
        "        guess = input(\"Do you think your number is higher or lower than the computer's?: \").lower()\n",
        "        if guess in [\"higher\", \"lower\"]:\n",
        "            break\n",
        "        print(\"Please enter either 'higher' or 'lower'.\")\n",
        "\n",
        "    # Check who wins\n",
        "    if user_number == computer_number:\n",
        "        print(f\"Aww, that's incorrect. The computer's number was {computer_number}\")\n",
        "    elif (guess == \"higher\" and user_number > computer_number) or (guess == \"lower\" and user_number < computer_number):\n",
        "        print(f\"You were right! The computer's number was {computer_number}\")\n",
        "        score += 1\n",
        "    else:\n",
        "        print(f\"Aww, that's incorrect. The computer's number was {computer_number}\")\n",
        "\n",
        "    # Print current score\n",
        "    print(f\"Your score is now {score}\\n\")\n",
        "\n",
        "# Final message\n",
        "print(\"Thanks for playing!\")\n",
        "print(f\"Final score: {score}\")\n"
      ],
      "metadata": {
        "colab": {
          "base_uri": "https://localhost:8080/"
        },
        "id": "9lybxdOogPzl",
        "outputId": "f5ae2053-7739-480b-a189-062dddf9874b"
      },
      "execution_count": 26,
      "outputs": [
        {
          "output_type": "stream",
          "name": "stdout",
          "text": [
            "Welcome to the High-Low Game!😍🎉\n",
            "--------------------------------\n",
            "Round 1\n",
            "Your number is 83\n",
            "Do you think your number is higher or lower than the computer's?: higher\n",
            "You were right! The computer's number was 2\n",
            "Your score is now 1\n",
            "\n",
            "Round 2\n",
            "Your number is 39\n",
            "Do you think your number is higher or lower than the computer's?: lower\n",
            "You were right! The computer's number was 88\n",
            "Your score is now 2\n",
            "\n",
            "Round 3\n",
            "Your number is 33\n",
            "Do you think your number is higher or lower than the computer's?: lower\n",
            "You were right! The computer's number was 72\n",
            "Your score is now 3\n",
            "\n",
            "Thanks for playing!\n",
            "Final score: 3\n"
          ]
        }
      ]
    },
    {
      "cell_type": "markdown",
      "source": [
        "**Intro to Python**"
      ],
      "metadata": {
        "id": "ITVigK7ic36R"
      }
    },
    {
      "cell_type": "markdown",
      "source": [
        "**Planetary Weight** **Calculator**\n",
        " Milestone #1 (Mars Weight)"
      ],
      "metadata": {
        "id": "5MB1eqzyc7mQ"
      }
    },
    {
      "cell_type": "code",
      "source": [
        "# Get user input for Earth weight\n",
        "earth_weight = float(input(\"Enter a weight on Earth: \"))\n",
        "\n",
        "# Calculate Mars weight (37.8% of Earth weight)\n",
        "mars_weight = round(earth_weight * 0.378, 2)\n",
        "\n",
        "# Print result\n",
        "print(f\"The equivalent on Mars: {mars_weight}\")\n"
      ],
      "metadata": {
        "id": "YqSlt3RndIG2",
        "colab": {
          "base_uri": "https://localhost:8080/"
        },
        "outputId": "25143548-7b35-472e-9791-90b63a3b82fe"
      },
      "execution_count": 13,
      "outputs": [
        {
          "output_type": "stream",
          "name": "stdout",
          "text": [
            "Enter a weight on Earth: 60\n",
            "The equivalent on Mars: 22.68\n"
          ]
        }
      ]
    },
    {
      "cell_type": "markdown",
      "source": [
        "Milestone #2 (Weight on Any Planet)"
      ],
      "metadata": {
        "id": "2gsDb8gOeGny"
      }
    },
    {
      "cell_type": "code",
      "source": [
        "# Gravity factors for each planet\n",
        "gravity_factors = {\n",
        "    \"Mercury\": 0.376,\n",
        "    \"Venus\": 0.889,\n",
        "    \"Mars\": 0.378,\n",
        "    \"Jupiter\": 2.36,\n",
        "    \"Saturn\": 1.081,\n",
        "    \"Uranus\": 0.815,\n",
        "    \"Neptune\": 1.14\n",
        "}\n",
        "\n",
        "# Get user input\n",
        "earth_weight = float(input(\"Enter a weight on Earth: \"))\n",
        "planet = input(\"Enter a planet: \").strip()\n",
        "\n",
        "# Calculate equivalent weight\n",
        "equivalent_weight = round(earth_weight * gravity_factors[planet], 2)\n",
        "\n",
        "# Print result\n",
        "print(f\"The equivalent weight on {planet}: {equivalent_weight}\")\n"
      ],
      "metadata": {
        "colab": {
          "base_uri": "https://localhost:8080/"
        },
        "id": "RfiPj6bEeHgx",
        "outputId": "3b3dffae-bf88-402f-ebff-010196cd5585"
      },
      "execution_count": 19,
      "outputs": [
        {
          "output_type": "stream",
          "name": "stdout",
          "text": [
            "Enter a weight on Earth: 60\n",
            "Enter a planet: Mars\n",
            "The equivalent weight on Mars: 22.68\n"
          ]
        }
      ]
    },
    {
      "cell_type": "markdown",
      "source": [
        "# Lists and Dicts\n",
        "**Problem #1: List** **Practice**"
      ],
      "metadata": {
        "id": "JlawdRbDep6f"
      }
    },
    {
      "cell_type": "code",
      "source": [
        "def main():\n",
        "    # Create a list called fruit_list that contains the following fruits\n",
        "    fruit_list = ['apple', 'banana', 'orange', 'grape', 'pineapple']\n",
        "\n",
        "    # Print the length of the list\n",
        "    print(\"Length of the list:\", len(fruit_list))\n",
        "\n",
        "    # Add 'mango' at the end of the list\n",
        "    fruit_list.append('mango')\n",
        "\n",
        "    # Print the updated list\n",
        "    print(\"Updated list:\", fruit_list)\n",
        "\n",
        "# Call the main function\n",
        "main()\n"
      ],
      "metadata": {
        "colab": {
          "base_uri": "https://localhost:8080/"
        },
        "id": "CLOWITjmg7yZ",
        "outputId": "23964b30-c2b8-4e59-c884-d55cc29958bd"
      },
      "execution_count": 27,
      "outputs": [
        {
          "output_type": "stream",
          "name": "stdout",
          "text": [
            "Length of the list: 5\n",
            "Updated list: ['apple', 'banana', 'orange', 'grape', 'pineapple', 'mango']\n"
          ]
        }
      ]
    },
    {
      "cell_type": "markdown",
      "source": [
        "# Problem #2: Index Game"
      ],
      "metadata": {
        "id": "mY3_zctsie2d"
      }
    },
    {
      "cell_type": "code",
      "source": [
        "def access_element(lst, index):\n",
        "    \"\"\"Returns the element at the given index or an error message if out of range.\"\"\"\n",
        "    if 0 <= index < len(lst):\n",
        "        return lst[index]\n",
        "    return \"Index out of range.\"\n",
        "\n",
        "def modify_element(lst, index, new_value):\n",
        "    \"\"\"Replaces an element at a given index with a new value if index is valid.\"\"\"\n",
        "    if 0 <= index < len(lst):\n",
        "        lst[index] = new_value\n",
        "        return \"Element modified successfully.\"\n",
        "    return \"Index out of range.\"\n",
        "\n",
        "def slice_list(lst, start, end):\n",
        "    \"\"\"Returns a slice of the list from start index to end index.\"\"\"\n",
        "    return lst[start:end] if 0 <= start < len(lst) and 0 <= end <= len(lst) else \"Invalid range.\"\n",
        "\n",
        "def main():\n",
        "    my_list = [\"apple\", \"banana\", \"cherry\", \"date\", \"elderberry\"]\n",
        "\n",
        "    while True:\n",
        "        print(\"\\nCurrent list:\", my_list)\n",
        "        print(\"Choose an operation:\")\n",
        "        print(\"1. Access an element\")\n",
        "        print(\"2. Modify an element\")\n",
        "        print(\"3. Slice the list\")\n",
        "        print(\"4. Exit\")\n",
        "\n",
        "        choice = input(\"Enter your choice (1-4): \")\n",
        "\n",
        "        if choice == \"1\":\n",
        "            index = int(input(\"Enter the index: \"))\n",
        "            print(\"Result:\", access_element(my_list, index))\n",
        "\n",
        "        elif choice == \"2\":\n",
        "            index = int(input(\"Enter the index: \"))\n",
        "            new_value = input(\"Enter the new value: \")\n",
        "            print(modify_element(my_list, index, new_value))\n",
        "\n",
        "        elif choice == \"3\":\n",
        "            start = int(input(\"Enter the start index: \"))\n",
        "            end = int(input(\"Enter the end index: \"))\n",
        "            print(\"Sliced list:\", slice_list(my_list, start, end))\n",
        "\n",
        "        elif choice == \"4\":\n",
        "            print(\"Exiting the game. Goodbye!\")\n",
        "            break\n",
        "\n",
        "        else:\n",
        "            print(\"Invalid choice. Please enter 1-4.\")\n",
        "\n",
        "main()\n"
      ],
      "metadata": {
        "colab": {
          "base_uri": "https://localhost:8080/"
        },
        "id": "CYjt9DBAinAV",
        "outputId": "ab73e333-2049-400d-fd01-47ddb1eaa4da"
      },
      "execution_count": 28,
      "outputs": [
        {
          "output_type": "stream",
          "name": "stdout",
          "text": [
            "\n",
            "Current list: ['apple', 'banana', 'cherry', 'date', 'elderberry']\n",
            "Choose an operation:\n",
            "1. Access an element\n",
            "2. Modify an element\n",
            "3. Slice the list\n",
            "4. Exit\n",
            "Enter your choice (1-4): 3\n",
            "Enter the start index: 1\n",
            "Enter the end index: 4\n",
            "Sliced list: ['banana', 'cherry', 'date']\n",
            "\n",
            "Current list: ['apple', 'banana', 'cherry', 'date', 'elderberry']\n",
            "Choose an operation:\n",
            "1. Access an element\n",
            "2. Modify an element\n",
            "3. Slice the list\n",
            "4. Exit\n",
            "Enter your choice (1-4): 4\n",
            "Exiting the game. Goodbye!\n"
          ]
        }
      ]
    },
    {
      "cell_type": "markdown",
      "source": [],
      "metadata": {
        "id": "1uESjlZri4AM"
      }
    }
  ]
}