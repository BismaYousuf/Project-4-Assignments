{
  "nbformat": 4,
  "nbformat_minor": 0,
  "metadata": {
    "colab": {
      "provenance": []
    },
    "kernelspec": {
      "name": "python3",
      "display_name": "Python 3"
    },
    "language_info": {
      "name": "python"
    }
  },
  "cells": [
    {
      "cell_type": "code",
      "execution_count": null,
      "metadata": {
        "colab": {
          "base_uri": "https://localhost:8080/"
        },
        "id": "IhBdlqV2Gzc6",
        "outputId": "a3143594-4985-4093-bfa4-83ee8511d443"
      },
      "outputs": [
        {
          "output_type": "stream",
          "name": "stdout",
          "text": [
            "Enter a noun: Bisma\n",
            "Enter a verb: Playing\n",
            "Enter an adjective:  fluffy\n",
            "Enter a place: Play Ground\n",
            "\n",
            "Your Mad Libs Story:\n",
            "One day, a  fluffy Bisma decided to Playing at the Play Ground. Everyone was surprised by its amazing performance!\n"
          ]
        }
      ],
      "source": [
        "# Mad Libs Python Project\n",
        "\n",
        "# Getting user inputs\n",
        "noun = input(\"Enter a noun: \")\n",
        "verb = input(\"Enter a verb: \")\n",
        "adjective = input(\"Enter an adjective: \")\n",
        "place = input(\"Enter a place: \")\n",
        "\n",
        "# Story template using f-strings\n",
        "story = f\"One day, a {adjective} {noun} decided to {verb} at the {place}. \\\n",
        "Everyone was surprised by its amazing performance!\"\n",
        "\n",
        "# Print the completed story\n",
        "print(\"\\n Mad Libs Story:\")\n",
        "print(story)\n"
      ]
    },
    {
      "cell_type": "code",
      "source": [],
      "metadata": {
        "id": "RYoTnV3lHyM3"
      },
      "execution_count": null,
      "outputs": []
    }
  ]
}