{
  "nbformat": 4,
  "nbformat_minor": 0,
  "metadata": {
    "colab": {
      "provenance": []
    },
    "kernelspec": {
      "name": "python3",
      "display_name": "Python 3"
    },
    "language_info": {
      "name": "python"
    }
  },
  "cells": [
    {
      "cell_type": "code",
      "execution_count": null,
      "metadata": {
        "colab": {
          "base_uri": "https://localhost:8080/"
        },
        "id": "WReKMrfGLsBC",
        "outputId": "5cae44ed-b5ae-4ffe-e834-d0d4a710d41e"
      },
      "outputs": [
        {
          "output_type": "stream",
          "name": "stdout",
          "text": [
            "Enter your choice: rock (r), paper (p), or scissors (s): p\n",
            "Computer chose r\n",
            "You win!\n"
          ]
        }
      ],
      "source": [
        "import random\n",
        "\n",
        "def play():\n",
        "    user = input(\"Enter your choice: rock (r), paper (p), or scissors (s): \").lower()\n",
        "    computer = random.choice(['r', 'p', 's'])\n",
        "\n",
        "    if user not in ['r', 'p', 's']:\n",
        "        print(\"Invalid choice. Please choose 'r', 'p', or 's'.\")\n",
        "        return play()\n",
        "\n",
        "    print(f\"Computer chose {computer}\")\n",
        "\n",
        "    if user == computer:\n",
        "        return \"It's a tie!\"\n",
        "\n",
        "    if is_win(user, computer):\n",
        "        return \"You win!\"\n",
        "\n",
        "    return \"You lose!\"\n",
        "\n",
        "def is_win(player, opponent):\n",
        "    # return True if the player wins\n",
        "    if (player == 'r' and opponent == 's') or (player == 's' and opponent == 'p') or (player == 'p' and opponent == 'r'):\n",
        "        return True\n",
        "    return False\n",
        "\n",
        "print(play())\n"
      ]
    }
  ]
}