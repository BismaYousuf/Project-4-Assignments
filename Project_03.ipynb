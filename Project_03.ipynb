{
  "nbformat": 4,
  "nbformat_minor": 0,
  "metadata": {
    "colab": {
      "provenance": []
    },
    "kernelspec": {
      "name": "python3",
      "display_name": "Python 3"
    },
    "language_info": {
      "name": "python"
    }
  },
  "cells": [
    {
      "cell_type": "code",
      "execution_count": null,
      "metadata": {
        "id": "SacQkj5CKz6o",
        "colab": {
          "base_uri": "https://localhost:8080/"
        },
        "outputId": "0c4ae961-7cce-41cf-c4b8-730f4d1874d1"
      },
      "outputs": [
        {
          "output_type": "stream",
          "name": "stdout",
          "text": [
            "Enter the upper limit for the number range: 5\n",
            "Think of a number between 1 and 5, and I'll try to guess it!\n",
            "Is 2 too high (H), too low (L), or correct (C)? C\n",
            "Yay! I guessed your number 2 correctly!\n"
          ]
        }
      ],
      "source": [
        "import random\n",
        "\n",
        "def computer_guess(x):\n",
        "    low = 1\n",
        "    high = x\n",
        "    feedback = ''\n",
        "\n",
        "    print(f\"Think of a number between 1 and {x}, and I'll try to guess it!\")\n",
        "\n",
        "    while feedback != 'c':\n",
        "        if low != high:\n",
        "            guess = random.randint(low, high)\n",
        "        else:\n",
        "            guess = low\n",
        "\n",
        "        feedback = input(f\"Is {guess} too high (H), too low (L), or correct (C)? \").lower()\n",
        "\n",
        "        if feedback == 'h':\n",
        "            high = guess - 1\n",
        "        elif feedback == 'l':\n",
        "            low = guess + 1\n",
        "        elif feedback == 'c':\n",
        "            print(f\"Yay! I guessed your number {guess} correctly!\")\n",
        "        else:\n",
        "            print(\"Please enter a valid response (H, L, or C).\")\n",
        "\n",
        "# Set the range for guessing\n",
        "top_range = int(input(\"Enter the upper limit for the number range: \"))\n",
        "computer_guess(top_range)\n"
      ]
    }
  ]
}